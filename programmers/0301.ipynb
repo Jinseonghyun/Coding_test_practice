{
 "cells": [
  {
   "cell_type": "code",
   "execution_count": null,
   "metadata": {},
   "outputs": [],
   "source": [
    "# 배열 회전시키기\n",
    "def solution(numbers, direction):\n",
    "    if direction == 'right':\n",
    "        return [numbers[-1]] + numbers[:-1]\n",
    "    else:\n",
    "        return numbers[1:] + [numbers[0]]"
   ]
  },
  {
   "cell_type": "code",
   "execution_count": null,
   "metadata": {},
   "outputs": [],
   "source": [
    "# 배열 회전시키기 다른 풀이\n",
    "\n",
    "from collections import deque\n",
    "\n",
    "def solution(numbers, direction):\n",
    "    if direction == 'right':\n",
    "        numbers = deque(numbers)\n",
    "        numbers.rotate(1)\n",
    "        return list(numbers)\n",
    "    else:\n",
    "        numbers = deque(numbers)\n",
    "        numbers.rotate(-1)\n",
    "        return list(numbers)"
   ]
  },
  {
   "cell_type": "code",
   "execution_count": null,
   "metadata": {},
   "outputs": [],
   "source": [
    "# 외계행성의 나이\n",
    "\n",
    "def solution(age):\n",
    "    행성 = 'abcdefghij'\n",
    "    return ''.join(map(lambda x : 행성[int(x)], str(age)))"
   ]
  },
  {
   "cell_type": "code",
   "execution_count": null,
   "metadata": {},
   "outputs": [],
   "source": [
    "# 369게임\n",
    "def solution(order):\n",
    "    answer = 0\n",
    "    order = str(order)\n",
    "    answer += order.count('3')\n",
    "    answer += order.count('6')\n",
    "    answer += order.count('9')\n",
    "    return answer"
   ]
  },
  {
   "cell_type": "code",
   "execution_count": null,
   "metadata": {},
   "outputs": [],
   "source": [
    "# 369게임 다른 풀이\n",
    "\n",
    "def solution(order):\n",
    "    order = str(order)\n",
    "    return sum(map(lambda x: order.count(x), '369'))"
   ]
  },
  {
   "cell_type": "code",
   "execution_count": null,
   "metadata": {},
   "outputs": [],
   "source": [
    "# 369게임 다른 풀이2\n",
    "\n",
    "def solution(order):\n",
    "    order = str(order)\n",
    "    return len(list(filter(lambda x: x in '369', order)))"
   ]
  },
  {
   "cell_type": "code",
   "execution_count": null,
   "metadata": {},
   "outputs": [],
   "source": [
    "# 369게임 다른 풀이3\n",
    "\n",
    "import re\n",
    "\n",
    "def solution(order):\n",
    "    order = str(order)\n",
    "    return len(re.findall('[369]', order))"
   ]
  },
  {
   "cell_type": "code",
   "execution_count": null,
   "metadata": {},
   "outputs": [],
   "source": [
    "# 중복된 문자 제거\n",
    "\n",
    "def solution(my_string):\n",
    "    return ''.join(dict.fromkeys(my_string))"
   ]
  }
 ],
 "metadata": {
  "language_info": {
   "name": "python"
  }
 },
 "nbformat": 4,
 "nbformat_minor": 2
}
