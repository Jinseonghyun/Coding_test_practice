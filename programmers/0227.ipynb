{
 "cells": [
  {
   "cell_type": "code",
   "execution_count": 2,
   "metadata": {},
   "outputs": [],
   "source": [
    "# 나머지 구하기\n",
    "def solution(num1, num2):\n",
    "    answer = num1 % num2\n",
    "    return answer"
   ]
  },
  {
   "cell_type": "code",
   "execution_count": null,
   "metadata": {},
   "outputs": [],
   "source": [
    "# 숫자 비교하기\n",
    "def solution(num1, num2):\n",
    "    if (num1 == num2):\n",
    "        result = 1\n",
    "    else:\n",
    "        result = -1\n",
    "    return result\n"
   ]
  },
  {
   "cell_type": "code",
   "execution_count": null,
   "metadata": {},
   "outputs": [],
   "source": [
    "# 숫자 비교하기 다른 풀이\n",
    "def solution(num1, num2):\n",
    "    return 1 if num1 == num2 else -1"
   ]
  },
  {
   "cell_type": "code",
   "execution_count": null,
   "metadata": {},
   "outputs": [],
   "source": [
    "# 나이 출력\n",
    "def solution(age):\n",
    "    return 2023 - age"
   ]
  },
  {
   "cell_type": "code",
   "execution_count": null,
   "metadata": {},
   "outputs": [],
   "source": [
    "# 각도기\n",
    "def solution(angle):\n",
    "    if (angle < 90):\n",
    "        return 1\n",
    "        \n",
    "    elif (angle == 90):\n",
    "        return 2\n",
    "        \n",
    "    elif (angle < 180):\n",
    "        return 3\n",
    "        \n",
    "    else:\n",
    "        return 4"
   ]
  },
  {
   "cell_type": "code",
   "execution_count": null,
   "metadata": {},
   "outputs": [],
   "source": [
    "# 양꼬치\n",
    "def solution(n, k):\n",
    "    if n >= 10:\n",
    "        k -= n//10\n",
    "    return 12000 * n + 2000 * k"
   ]
  },
  {
   "cell_type": "code",
   "execution_count": null,
   "metadata": {},
   "outputs": [],
   "source": [
    "# 짝수의 합\n",
    "def solution(n):\n",
    "    return sum(range(0, n+1, 2))"
   ]
  },
  {
   "cell_type": "code",
   "execution_count": null,
   "metadata": {},
   "outputs": [],
   "source": [
    "# 배열의 평균값\n",
    "def solution(numbers):\n",
    "    return sum(numbers)/len(numbers)"
   ]
  },
  {
   "cell_type": "code",
   "execution_count": null,
   "metadata": {},
   "outputs": [],
   "source": [
    "# 배열의 평균값\n",
    "import numpy as np\n",
    "\n",
    "def solution(numbers):\n",
    "    return np.sum(numbers)/len(numbers)"
   ]
  }
 ],
 "metadata": {
  "kernelspec": {
   "display_name": "venv",
   "language": "python",
   "name": "python3"
  },
  "language_info": {
   "codemirror_mode": {
    "name": "ipython",
    "version": 3
   },
   "file_extension": ".py",
   "mimetype": "text/x-python",
   "name": "python",
   "nbconvert_exporter": "python",
   "pygments_lexer": "ipython3",
   "version": "3.12.1"
  }
 },
 "nbformat": 4,
 "nbformat_minor": 2
}
