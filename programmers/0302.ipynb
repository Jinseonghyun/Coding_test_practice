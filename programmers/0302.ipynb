{
 "cells": [
  {
   "cell_type": "code",
   "execution_count": null,
   "metadata": {},
   "outputs": [],
   "source": [
    "# A로 B만들기\n",
    "\n",
    "def solution(before, after):\n",
    "    return 1 if sorted(list(before)) == sorted(list(after)) else 0"
   ]
  },
  {
   "cell_type": "code",
   "execution_count": null,
   "metadata": {},
   "outputs": [],
   "source": [
    "# 팩토리얼\n",
    "\n",
    "def solution(n):\n",
    "    factorial = 1\n",
    "    i = 1\n",
    "    while factorial <= n:\n",
    "        i += 1\n",
    "        factorial *= i\n",
    "    return i - 1"
   ]
  },
  {
   "cell_type": "code",
   "execution_count": null,
   "metadata": {},
   "outputs": [],
   "source": [
    "# 팩토리얼 다른 풀이\n",
    "# 수학수식은 메서드 활용 \n",
    "\n",
    "from math import factorial\n",
    "\n",
    "def solution(n):\n",
    "    i = 1\n",
    "    while factorial(i) <= n:\n",
    "        i += 1\n",
    "    return i - 1"
   ]
  },
  {
   "cell_type": "code",
   "execution_count": null,
   "metadata": {},
   "outputs": [],
   "source": [
    "# k의 개수\n",
    "\n",
    "def solution(i, j, k):\n",
    "    return str(list(range(i, j+1))).count(str(k))"
   ]
  },
  {
   "cell_type": "code",
   "execution_count": null,
   "metadata": {},
   "outputs": [],
   "source": [
    "# 가까운 수 \n",
    "\n",
    "def solution(array, n):\n",
    "    array = sorted(array)\n",
    "    차 = float('inf')\n",
    "    최소거리값 = 0\n",
    "    for i in array:\n",
    "        if abs(n - i) < 차:\n",
    "            차 = n - i\n",
    "            최소거리값 = i\n",
    "    return 최소거리값"
   ]
  },
  {
   "cell_type": "code",
   "execution_count": null,
   "metadata": {},
   "outputs": [],
   "source": [
    "# 가까운 수 다른풀이\n",
    "\n",
    "def solution(array, n):\n",
    "    return sorted(array, key=lambda x: (abs(x-n), x-n))[0]"
   ]
  },
  {
   "cell_type": "code",
   "execution_count": null,
   "metadata": {},
   "outputs": [],
   "source": [
    "# 한 번만 등장한 문자\n",
    "\n",
    "def solution(s):\n",
    "    return ''.join(sorted([c for c in s if s.count(c) == 1]))"
   ]
  },
  {
   "cell_type": "code",
   "execution_count": null,
   "metadata": {},
   "outputs": [],
   "source": [
    "# 한 번만 등장한 문자 다른풀이\n",
    "\n",
    "from collections import Counter\n",
    "\n",
    "def solution(s):\n",
    "    string = []\n",
    "    for i, j in Counter(s).items():\n",
    "        if j == 1:\n",
    "            string.append(i)\n",
    "    return ''.join(sorted(string))"
   ]
  }
 ],
 "metadata": {
  "language_info": {
   "name": "python"
  }
 },
 "nbformat": 4,
 "nbformat_minor": 2
}
