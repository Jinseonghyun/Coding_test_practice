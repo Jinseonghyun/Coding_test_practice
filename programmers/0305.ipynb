{
 "cells": [
  {
   "cell_type": "code",
   "execution_count": null,
   "metadata": {},
   "outputs": [],
   "source": [
    "# 다항식 더하기\n",
    "\n",
    "def solution(polynomial):\n",
    "    numberlist = polynomial.split()\n",
    "\n",
    "    x= 0 #x앞의 수를 저장할 수\n",
    "    s= 0 #상수항\n",
    "    \n",
    "    for i in numberlist:\n",
    "        if i[-1] == \"x\":\n",
    "            if i[:-1]: #x의 앞에 수가 있을때\n",
    "                x += int(i[:-1])\n",
    "            else:\n",
    "                x += 1 #x의 앞에 수가 없으면 계수가 1이라서 1더하기\n",
    "        elif i.isdigit(): #숫자형태인지 확인하는 메서드\n",
    "            s += int(i)\n",
    "\n",
    "    if x == 1:\n",
    "        if s > 0 :\n",
    "            return f\"x + {s}\"\n",
    "        else: \n",
    "            return f\"x\"\n",
    "    elif x > 1:\n",
    "        if s > 0:\n",
    "            return f\"{x}x + {s}\"\n",
    "        else:\n",
    "            return f\"{x}x\"\n",
    "    else:\n",
    "        return f\"{s}\""
   ]
  },
  {
   "cell_type": "code",
   "execution_count": null,
   "metadata": {},
   "outputs": [],
   "source": [
    "# 안전지대\n",
    "\n",
    "import numpy as np\n",
    "from collections import Counter\n",
    "\n",
    "def solution(board):\n",
    "    n = len(board)\n",
    "    # pad() 함수를 사용해 주어진 2차원 배열의 상하좌우 1줄씩 -1을 추가한 board_padded 생성\n",
    "    board_padded = np.pad(board, ((1, 1), (1, 1)), constant_values = -1)\n",
    "    danger_array = np.pad(board, ((1, 1), (1, 1)), constant_values = -1)\n",
    "    for i in range(1, n+1):\n",
    "        for j in range(1, n+1):\n",
    "            if board_padded[i][j] == 1:\n",
    "                for x in range(i-1, i+2):\n",
    "                    for y in range(j-1, j+2):\n",
    "                        danger_array[x][y] = 1\n",
    "    danger_list = danger_array.reshape(1, -1).squeeze()\n",
    "    answer = Counter(danger_list)[0]\n",
    "    # 결과 값 반환\n",
    "    return answer"
   ]
  },
  {
   "cell_type": "code",
   "execution_count": null,
   "metadata": {},
   "outputs": [],
   "source": [
    "# 안전지대 다른풀이\n",
    "\n",
    "import numpy as np\n",
    "\n",
    "def solution(board):\n",
    "    board = np.array(board)\n",
    "    for a, b in zip(*np.where(board == 1)):\n",
    "        board[a-1 if a else 0:a+2, b-1 if b else 0:b+2] = 1\n",
    "    return len(board[board == 0])"
   ]
  },
  {
   "cell_type": "code",
   "execution_count": null,
   "metadata": {},
   "outputs": [],
   "source": [
    "# 안전지대 다른풀이2\n",
    "\n",
    "def solution(board):\n",
    "    N = len(board)\n",
    "    dx = [-1, 1, 0, 0, -1, -1, 1, 1]\n",
    "    dy = [0, 0, -1, 1, -1, 1, -1, 1]\n",
    "\n",
    "    #지뢰가 설치된 곳\n",
    "    booms = []\n",
    "    for x in range(N):\n",
    "        for y in range(N):\n",
    "            if board[x][y] == 1:\n",
    "                booms.append((x, y))\n",
    "\n",
    "    #지뢰가 설치된 곳 주변에 폭탄 설치\n",
    "    for x, y in booms:\n",
    "        for i in range(8):\n",
    "            nx = x + dx[i]\n",
    "            ny = y + dy[i]\n",
    "            if 0 <= nx < N and 0 <= ny < N:\n",
    "                board[nx][ny] = 1\n",
    "\n",
    "    #폭탄이 설치되지 않은 곳만 카운팅\n",
    "    count = 0\n",
    "    for x in range(N):\n",
    "        for y in range(N):\n",
    "            if board[x][y] == 0:\n",
    "                count += 1\n",
    "\n",
    "    return count"
   ]
  },
  {
   "cell_type": "code",
   "execution_count": null,
   "metadata": {},
   "outputs": [],
   "source": [
    "# 겹치는 선분의 길이\n",
    "\n",
    "def solution(lines):\n",
    "    line = [0 for i in range(200)]\n",
    "    for a, b in lines:\n",
    "        while a < b:\n",
    "            line[a+100] += 1\n",
    "            a += 1\n",
    "    return len(list(filter(lambda x: x>1, line)))"
   ]
  }
 ],
 "metadata": {
  "language_info": {
   "name": "python"
  }
 },
 "nbformat": 4,
 "nbformat_minor": 2
}
