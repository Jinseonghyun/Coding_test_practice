{
 "cells": [
  {
   "cell_type": "code",
   "execution_count": null,
   "metadata": {},
   "outputs": [],
   "source": [
    "# 잘라서 배열로 저장하기\n",
    "\n",
    "import re\n",
    "\n",
    "def solution(my_str, n):\n",
    "    p = re.compile(f'.{{1,{n}}}')\n",
    "    return p.findall(my_str)"
   ]
  },
  {
   "cell_type": "code",
   "execution_count": null,
   "metadata": {},
   "outputs": [],
   "source": [
    "# 잘라서 배열로 저장하기 다른풀이\n",
    "# 리스트 컴프리헨션 활용\n",
    "\n",
    "import re\n",
    "\n",
    "def solution(my_str, n):\n",
    "    return [my_str[i:i+n] for i in range(0, len(my_str), n)]"
   ]
  },
  {
   "cell_type": "code",
   "execution_count": null,
   "metadata": {},
   "outputs": [],
   "source": [
    "# 진료순서 정하기\n",
    "\n",
    "def solution(emergency):\n",
    "    응급순서 = sorted(emergency, reverse=True)\n",
    "    return list(map(lambda x:응급순서.index(x) + 1, emergency))"
   ]
  },
  {
   "cell_type": "code",
   "execution_count": null,
   "metadata": {},
   "outputs": [],
   "source": [
    "# 진료순서 정하기 다른풀이\n",
    "# 리스트 컴프리헨션\n",
    "\n",
    "def solution(emergency):\n",
    "    응급순서 = sorted(emergency, reverse=True)\n",
    "    return [응급순서.index(i) + 1 for i in emergency]"
   ]
  },
  {
   "cell_type": "code",
   "execution_count": null,
   "metadata": {},
   "outputs": [],
   "source": [
    "# 영어가 싫어요\n",
    "\n",
    "def solution(numbers):\n",
    "    return int(numbers.replace('one', '1').replace('two', '2').replace('three', '3').replace('four', '4').replace('five', '5').replace('six', '6').replace('seven', '7').replace('eight', '8').replace('nine', '9').replace('zero', '0'))"
   ]
  },
  {
   "cell_type": "code",
   "execution_count": null,
   "metadata": {},
   "outputs": [],
   "source": [
    "# 영어가 싫어요 다른풀이\n",
    "# 정규표현식\n",
    "\n",
    "import re\n",
    "\n",
    "def solution(numbers):\n",
    "    s = ''\n",
    "    d = {\n",
    "        'one':      '1',\n",
    "        'two':      '2',\n",
    "        'three':    '3',\n",
    "        'four':     '4',\n",
    "        'five':     '5',\n",
    "        'six':      '6',\n",
    "        'seven':    '7',\n",
    "        'eight':    '8',\n",
    "        'nine':     '9',\n",
    "        'zero':     '0',\n",
    "    }\n",
    "    for i in re.findall(r'(zero|one|two|three|four|five|six|seven|eight|nine)', numbers):\n",
    "        s += d[i]\n",
    "    return int(s)"
   ]
  },
  {
   "cell_type": "code",
   "execution_count": null,
   "metadata": {},
   "outputs": [],
   "source": []
  },
  {
   "cell_type": "code",
   "execution_count": null,
   "metadata": {},
   "outputs": [],
   "source": []
  }
 ],
 "metadata": {
  "language_info": {
   "name": "python"
  }
 },
 "nbformat": 4,
 "nbformat_minor": 2
}
