{
 "cells": [
  {
   "cell_type": "code",
   "execution_count": null,
   "metadata": {},
   "outputs": [],
   "source": [
    "# 배열 두배 만들기\n",
    "def solution(numbers):\n",
    "    return list(map(lambda x:x*2, numbers))"
   ]
  },
  {
   "cell_type": "code",
   "execution_count": null,
   "metadata": {},
   "outputs": [],
   "source": [
    "# 배열 두배 만들기 다른 풀이\n",
    "def 함수(x):\n",
    "    return x * 2\n",
    "\n",
    "def solution(numbers):\n",
    "    return list(map(함수, numbers))"
   ]
  },
  {
   "cell_type": "code",
   "execution_count": null,
   "metadata": {},
   "outputs": [],
   "source": [
    "# 배열 두배 만들기 다른 풀이2\n",
    "# array가 다차원이어도 풀 수 있다.\n",
    "import numpy as np\n",
    "\n",
    "def solution(numbers):\n",
    "    numbers = np.array(numbers)\n",
    "    return (numbers * 2).tolist()"
   ]
  },
  {
   "cell_type": "code",
   "execution_count": null,
   "metadata": {},
   "outputs": [],
   "source": [
    "# 문자열 뒤집기\n",
    "# 슬라이싱 사용\n",
    "def solution(my_string):\n",
    "    return my_string[::-1]"
   ]
  },
  {
   "cell_type": "code",
   "execution_count": null,
   "metadata": {},
   "outputs": [],
   "source": [
    "# 특정 문자 제거하기\n",
    "# 정규표현식\n",
    "import re\n",
    "\n",
    "def solution(my_string, letter):\n",
    "    return re.sub(letter, '', my_string)"
   ]
  },
  {
   "cell_type": "code",
   "execution_count": null,
   "metadata": {},
   "outputs": [],
   "source": [
    "# 배열의 유사도\n",
    "def solution(s1, s2):\n",
    "    answer = 0\n",
    "    for i in s1:\n",
    "        if i in s2:\n",
    "            answer += 1\n",
    "    return answer"
   ]
  },
  {
   "cell_type": "code",
   "execution_count": null,
   "metadata": {},
   "outputs": [],
   "source": [
    "# 배열의 유사도 다른 풀이\n",
    "# 교집합을 찾고 그 길이를 반환\n",
    "# 교집합 &  , 합집합 | \n",
    "def solution(s1, s2):\n",
    "    return len(set(s1) & set(s2))"
   ]
  },
  {
   "cell_type": "code",
   "execution_count": null,
   "metadata": {},
   "outputs": [],
   "source": [
    "# 배열의 유사도 다른 풀이 2\n",
    "def solution(s1, s2):\n",
    "    return len(s1) + len(s2) - len(set(s1 + s2))"
   ]
  },
  {
   "cell_type": "code",
   "execution_count": null,
   "metadata": {},
   "outputs": [],
   "source": [
    "# 가위 바위 보\n",
    "def solution(rsp):\n",
    "    answer = ''\n",
    "    for i in rsp:\n",
    "        if i == '0':\n",
    "            answer += '5'\n",
    "        elif i == '2':\n",
    "            answer += '0'\n",
    "        elif i == '5':\n",
    "            answer += '2'\n",
    "    return answer"
   ]
  },
  {
   "cell_type": "code",
   "execution_count": null,
   "metadata": {},
   "outputs": [],
   "source": [
    "# 가위 바위 보 다른 풀이\n",
    "# 딕셔너리를 통해 정답지를 만들어 놓자\n",
    "def solution(rsp):\n",
    "    d = {'0':'5', '2':'0', '5':'2'}\n",
    "    answer = ''\n",
    "    for i in rsp:\n",
    "        answer += d[i]\n",
    "    return answer"
   ]
  },
  {
   "cell_type": "code",
   "execution_count": null,
   "metadata": {},
   "outputs": [],
   "source": [
    "# 가위 바위 보 다른 풀이\n",
    "# 딕셔너리를 통해 정답지를 만들어 놓자\n",
    "# 리스트컴프리헨션을 사용해 더 간소화\n",
    "def solution(rsp):\n",
    "    d = {'0':'5', '2':'0', '5':'2'}\n",
    "    return ''.join(d[i] for i in rsp)"
   ]
  }
 ],
 "metadata": {
  "language_info": {
   "name": "python"
  }
 },
 "nbformat": 4,
 "nbformat_minor": 2
}
