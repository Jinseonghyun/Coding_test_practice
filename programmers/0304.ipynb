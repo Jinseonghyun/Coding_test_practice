{
 "cells": [
  {
   "cell_type": "code",
   "execution_count": null,
   "metadata": {},
   "outputs": [],
   "source": [
    "# 외계어 사전\n",
    "\n",
    "def solution(spell, dic):\n",
    "    for d in dic:\n",
    "        if sorted(d) == sorted(spell):\n",
    "            return 1\n",
    "    return 2\n",
    "    return answer"
   ]
  },
  {
   "cell_type": "code",
   "execution_count": null,
   "metadata": {},
   "outputs": [],
   "source": [
    "# 문자열 밀기\n",
    "# index 안쓰고 find 찾은 이유는 못 찾았을 때 에러가 아닌 -1 출력해야해서\n",
    "\n",
    "def solution(A, B):\n",
    "    return (B*2).find(A)"
   ]
  },
  {
   "cell_type": "code",
   "execution_count": null,
   "metadata": {},
   "outputs": [],
   "source": [
    "# 컨트롤 제트\n",
    "\n",
    "def solution(s):\n",
    "    result = []\n",
    "    for i in s.split(' '):\n",
    "        if i == 'Z':\n",
    "            result.pop()\n",
    "        else:\n",
    "            result.append(int(i))\n",
    "    return sum(result)"
   ]
  },
  {
   "cell_type": "code",
   "execution_count": null,
   "metadata": {},
   "outputs": [],
   "source": [
    "# 등수 매기기\n",
    "\n",
    "def solution(score):\n",
    "    정렬된점수 = sorted([sum(i) for i in score], reverse=True)\n",
    "    return [정렬된점수.index(sum(j)) + 1 for j in score]"
   ]
  },
  {
   "cell_type": "code",
   "execution_count": null,
   "metadata": {},
   "outputs": [],
   "source": [
    "# 저주의 숫자 3\n",
    "\n",
    "def solution(n):\n",
    "    \n",
    "    answer = 0\n",
    "    for _ in range(n):\n",
    "        answer += 1\n",
    "        while '3' in str(answer) or answer % 3 == 0:\n",
    "            answer += 1\n",
    "    return answer"
   ]
  },
  {
   "cell_type": "code",
   "execution_count": null,
   "metadata": {},
   "outputs": [],
   "source": [
    "# 저주의 숫자 3 다른 풀이\n",
    "\n",
    "def solution(n):\n",
    "    return [i for i in range(1, 1001) if i % 3 != 0 and not('3' in str(i))][n - 1]"
   ]
  },
  {
   "cell_type": "code",
   "execution_count": null,
   "metadata": {},
   "outputs": [],
   "source": []
  }
 ],
 "metadata": {
  "language_info": {
   "name": "python"
  }
 },
 "nbformat": 4,
 "nbformat_minor": 2
}
