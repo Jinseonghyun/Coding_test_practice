{
 "cells": [
  {
   "cell_type": "code",
   "execution_count": null,
   "metadata": {},
   "outputs": [],
   "source": [
    "# 머쓱이보다 키 큰 사람\n",
    "def solution(array, height):\n",
    "    count = 0\n",
    "    for i in array:\n",
    "        if i > height:\n",
    "            count += 1\n",
    "    return count"
   ]
  },
  {
   "cell_type": "code",
   "execution_count": null,
   "metadata": {},
   "outputs": [],
   "source": [
    "# 머쓱이보다 키 큰 사람 다른풀이1\n",
    "def solution(array, height):\n",
    "    array.append(height)\n",
    "    return sorted(array, reverse=True).index(height)"
   ]
  },
  {
   "cell_type": "code",
   "execution_count": null,
   "metadata": {},
   "outputs": [],
   "source": [
    "# 머쓱이보다 키 큰 사람 다른풀이2\n",
    "def solution(array, height):\n",
    "    return len(list(filter(lambda x:x > height, array)))"
   ]
  },
  {
   "cell_type": "code",
   "execution_count": null,
   "metadata": {},
   "outputs": [],
   "source": [
    "# 중복된 숫자 개수\n",
    "def solution(array, n):\n",
    "    return array.count(n)"
   ]
  },
  {
   "cell_type": "code",
   "execution_count": null,
   "metadata": {},
   "outputs": [],
   "source": [
    "# 중복된 숫자 개수 활용문제 \n",
    "# [1, 1, 2, 3, 4, 5, 11]\n",
    "\n",
    "from collections import Counter\n",
    "\n",
    "def solution(array, n):\n",
    "    return Counter(array).get(n)"
   ]
  },
  {
   "cell_type": "code",
   "execution_count": null,
   "metadata": {},
   "outputs": [],
   "source": [
    "# 피자 나눠 먹기 (1)\n",
    "def solution(n):\n",
    "    if n // 7 == n / 7:\n",
    "        return n // 7\n",
    "    else:\n",
    "        return n // 7 + 1"
   ]
  },
  {
   "cell_type": "code",
   "execution_count": null,
   "metadata": {},
   "outputs": [],
   "source": [
    "# 피자 나눠 먹기 (1) 다른 풀이\n",
    "import math\n",
    "\n",
    "def solution(n):\n",
    "    return math.ceil(n / 7)"
   ]
  },
  {
   "cell_type": "code",
   "execution_count": null,
   "metadata": {},
   "outputs": [],
   "source": [
    "# 짝수 홀수 개수\n",
    "def solution(num_list):\n",
    "    answer = [0, 0]\n",
    "    for i in num_list:\n",
    "        if i % 2 == 0:\n",
    "            answer[0] += 1\n",
    "        else:\n",
    "            answer[1] += 1\n",
    "    return answer"
   ]
  },
  {
   "cell_type": "code",
   "execution_count": null,
   "metadata": {},
   "outputs": [],
   "source": [
    "# 짝수 홀수 개수 다른 풀이\n",
    "def solution(num_list):\n",
    "    answer = [0, 0]\n",
    "    for i in num_list:\n",
    "        answer[i % 2] += 1\n",
    "    return answer"
   ]
  }
 ],
 "metadata": {
  "language_info": {
   "name": "python"
  }
 },
 "nbformat": 4,
 "nbformat_minor": 2
}
