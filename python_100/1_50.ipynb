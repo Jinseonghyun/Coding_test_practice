{
 "cells": [
  {
   "cell_type": "code",
   "execution_count": 2,
   "metadata": {},
   "outputs": [
    {
     "data": {
      "text/plain": [
       "[100, 200, 300]"
      ]
     },
     "execution_count": 2,
     "metadata": {},
     "output_type": "execute_result"
    }
   ],
   "source": [
    "# 1번\n",
    "nums = [100, 200, 300, 400, 500]\n",
    "#nums = nums[:3]"
   ]
  },
  {
   "cell_type": "code",
   "execution_count": 4,
   "metadata": {},
   "outputs": [
    {
     "name": "stdout",
     "output_type": "stream",
     "text": [
      "[200, 100, 10000, 300]\n"
     ]
    }
   ],
   "source": [
    "# 2번\n",
    "l = [200, 100, 300]\n",
    "l.insert(2, 10000)\n",
    "print(l)"
   ]
  },
  {
   "cell_type": "code",
   "execution_count": null,
   "metadata": {},
   "outputs": [],
   "source": [
    "# 3번\n",
    "# 3)  class 'list'\n",
    "\n",
    "# 정답은 '3번'입니다."
   ]
  },
  {
   "cell_type": "code",
   "execution_count": 5,
   "metadata": {},
   "outputs": [],
   "source": [
    "# 4번\n",
    "# 3)  입력 : a = 'p',   출력 : class 'char'\n",
    "\n",
    "# class 'str' 이 맞는 출력값입니다\n",
    "\n",
    "# 정답은 '3번'입니다."
   ]
  },
  {
   "cell_type": "code",
   "execution_count": 7,
   "metadata": {},
   "outputs": [
    {
     "name": "stdout",
     "output_type": "stream",
     "text": [
      "16\n"
     ]
    }
   ],
   "source": [
    "# 5번\n",
    "a = 10\n",
    "b = 2\n",
    "for i in range(1, 5, 2):\n",
    "    a += i\n",
    "\n",
    "print(a + b)"
   ]
  },
  {
   "cell_type": "code",
   "execution_count": 8,
   "metadata": {},
   "outputs": [],
   "source": [
    "# 6번\n",
    "# 2)  1\n",
    "\n",
    "# 정답은 '2번'입니다."
   ]
  },
  {
   "cell_type": "code",
   "execution_count": null,
   "metadata": {},
   "outputs": [],
   "source": [
    "# 7번\n",
    "# 3)  as\n",
    "# 5)  lage\n",
    "\n",
    "# 정답은 '3번', '5번' 입니다."
   ]
  },
  {
   "cell_type": "code",
   "execution_count": 9,
   "metadata": {},
   "outputs": [
    {
     "name": "stdout",
     "output_type": "stream",
     "text": [
      "84\n"
     ]
    }
   ],
   "source": [
    "# 8번\n",
    "d = {'height':180,'weight':78,'weight':84,'temparture':36,'eyesight':1}\n",
    "print(d['weight'])\n",
    "# 정답은 '84' 입니다."
   ]
  },
  {
   "cell_type": "code",
   "execution_count": 12,
   "metadata": {},
   "outputs": [
    {
     "name": "stdout",
     "output_type": "stream",
     "text": [
      "    *\n",
      "   ***\n",
      "  *****\n",
      " *******\n",
      "*********\n"
     ]
    }
   ],
   "source": [
    "# 10번\n",
    "n = int(input())\n",
    "for i in range(1,n+1):\n",
    "\tprint(\" \"*(n-i)+(\"*\"*(2*i-1)))\n",
    "#           공백         별 "
   ]
  },
  {
   "cell_type": "code",
   "execution_count": 13,
   "metadata": {},
   "outputs": [
    {
     "name": "stdout",
     "output_type": "stream",
     "text": [
      "5050\n"
     ]
    }
   ],
   "source": [
    " # 11번\n",
    "s = 0\n",
    "\n",
    "for i in range(101):\n",
    "    s += i\n",
    "\n",
    "print(s)"
   ]
  },
  {
   "cell_type": "code",
   "execution_count": 20,
   "metadata": {},
   "outputs": [
    {
     "name": "stdout",
     "output_type": "stream",
     "text": [
      "545 210 10\n",
      "파이어볼\n"
     ]
    }
   ],
   "source": [
    "# 12번\n",
    "class Wizard:\n",
    "    def __init__(self, health, mana, armor):\n",
    "        self.health = health\n",
    "        self.mana = mana\n",
    "        self.armor = armor\n",
    "\n",
    "    def attack(self):\n",
    "        print('파이어볼')\n",
    "\n",
    "x = Wizard(health = 545, mana = 210, armor = 10)\n",
    "print(x.health, x.mana, x.armor)\n",
    "x.attack()"
   ]
  },
  {
   "cell_type": "code",
   "execution_count": 21,
   "metadata": {},
   "outputs": [
    {
     "name": "stdout",
     "output_type": "stream",
     "text": [
      "화성\n"
     ]
    }
   ],
   "source": [
    "# 13번\n",
    "planets = ['수성', '금성', '지구', '화성', '목성', '토성', '천왕성', '해왕성']\n",
    "\n",
    "n = int(input()) - 1\n",
    "print(planets[n])"
   ]
  },
  {
   "cell_type": "code",
   "execution_count": 36,
   "metadata": {},
   "outputs": [
    {
     "name": "stdout",
     "output_type": "stream",
     "text": [
      "14\n"
     ]
    }
   ],
   "source": [
    "# 14번\n",
    "n = int(input())\n",
    "\n",
    "if n % 3 == 0:\n",
    "    print(\"짝\")\n",
    "else:\n",
    "    print(n)"
   ]
  },
  {
   "cell_type": "code",
   "execution_count": 27,
   "metadata": {},
   "outputs": [
    {
     "name": "stdout",
     "output_type": "stream",
     "text": [
      "안녕하세요. 저는 김다정입니다.\n"
     ]
    }
   ],
   "source": [
    "# 15번\n",
    "name = str(input())\n",
    "print(f'안녕하세요. 저는 {name}입니다.')"
   ]
  },
  {
   "cell_type": "code",
   "execution_count": 31,
   "metadata": {},
   "outputs": [
    {
     "name": "stdout",
     "output_type": "stream",
     "text": [
      "요세하녕안\n"
     ]
    }
   ],
   "source": [
    "# 16번\n",
    "n = input()\n",
    "print(n[::-1])"
   ]
  },
  {
   "cell_type": "code",
   "execution_count": 34,
   "metadata": {},
   "outputs": [
    {
     "name": "stdout",
     "output_type": "stream",
     "text": [
      "Yes\n"
     ]
    }
   ],
   "source": [
    "# 17번\n",
    "height = int(input())\n",
    "if (height >= 150):\n",
    "    print(\"Yes\")\n",
    "else:\n",
    "    print(\"No\")\n"
   ]
  },
  {
   "cell_type": "code",
   "execution_count": 38,
   "metadata": {},
   "outputs": [
    {
     "data": {
      "text/plain": [
       "20"
      ]
     },
     "execution_count": 38,
     "metadata": {},
     "output_type": "execute_result"
    }
   ],
   "source": [
    "# 18번\n",
    "grade = sum(list(map(int, input().split())))//3\n",
    "grade"
   ]
  },
  {
   "cell_type": "code",
   "execution_count": 40,
   "metadata": {},
   "outputs": [
    {
     "data": {
      "text/plain": [
       "12.166999999999998"
      ]
     },
     "execution_count": 40,
     "metadata": {},
     "output_type": "execute_result"
    }
   ],
   "source": [
    "# 19번\n",
    "data = list(map(float, input().split()))\n",
    "data[0] ** data[1]"
   ]
  },
  {
   "cell_type": "code",
   "execution_count": 41,
   "metadata": {},
   "outputs": [
    {
     "data": {
      "text/plain": [
       "(5.0, 0.0)"
      ]
     },
     "execution_count": 41,
     "metadata": {},
     "output_type": "execute_result"
    }
   ],
   "source": [
    "# 20번\n",
    "data = list(map(float, input().split()))\n",
    "\n",
    "data[0] // data[1], data[0] % data[1]\n",
    "\n",
    "# divmod(data[0], data[1])   몫 과 나머지 한번에 출력해주는 메서드 divmod"
   ]
  },
  {
   "cell_type": "code",
   "execution_count": 43,
   "metadata": {},
   "outputs": [],
   "source": [
    "# 21번\n",
    "# 2)  x = { }\n",
    "\n",
    "# 정답은 '2번'입니다."
   ]
  },
  {
   "cell_type": "code",
   "execution_count": null,
   "metadata": {},
   "outputs": [],
   "source": [
    "# 22번\n",
    "# 2)  i % 6 == 0\n",
    "\n",
    "# 정답은 '2번'입니다."
   ]
  },
  {
   "cell_type": "code",
   "execution_count": null,
   "metadata": {},
   "outputs": [],
   "source": [
    "# 23번\n",
    "# X\n",
    "\n",
    "# 정답은 'X'입니다."
   ]
  },
  {
   "cell_type": "code",
   "execution_count": 44,
   "metadata": {},
   "outputs": [
    {
     "name": "stdout",
     "output_type": "stream",
     "text": [
      "MARY\n"
     ]
    }
   ],
   "source": [
    "# 24번\n",
    "n = input()\n",
    "print(n.upper())"
   ]
  },
  {
   "cell_type": "code",
   "execution_count": 46,
   "metadata": {},
   "outputs": [
    {
     "name": "stdout",
     "output_type": "stream",
     "text": [
      "28.26\n"
     ]
    }
   ],
   "source": [
    "# 25번\n",
    "def Radius(n):\n",
    "    return n * n * 3.14\n",
    "\n",
    "print(Radius(int(input())))\n"
   ]
  },
  {
   "cell_type": "code",
   "execution_count": 47,
   "metadata": {},
   "outputs": [
    {
     "name": "stdout",
     "output_type": "stream",
     "text": [
      "Mercury\n"
     ]
    }
   ],
   "source": [
    "# 26번\n",
    "planets = {\n",
    "\t'수성' : 'Mercury',\n",
    "\t'금성' : 'Venus',\n",
    "\t'지구' : 'Earth',\n",
    "\t'화성' : 'Mars',\n",
    "\t'목성' : 'Jupiter',\n",
    "\t'토성' : 'Saturn',\n",
    "\t'천왕성' : 'Uranus',\n",
    "\t'해왕성' : 'Neptune',\n",
    "}\n",
    "\n",
    "name = input()\n",
    "print(planets[name])\n",
    "\n",
    "# name = input()              없는 값 입력해서 get 메서드는 에러 안냄\n",
    "# planets.get(name, '값 없음')"
   ]
  },
  {
   "cell_type": "code",
   "execution_count": 51,
   "metadata": {},
   "outputs": [
    {
     "name": "stdout",
     "output_type": "stream",
     "text": [
      "{'호준': 10, '성현': 20}\n"
     ]
    }
   ],
   "source": [
    "# 27번\n",
    "keys = input().split()\n",
    "values = map(int, input().split())\n",
    "\n",
    "result = dict(zip(keys, values))\n",
    "print(result)"
   ]
  },
  {
   "cell_type": "code",
   "execution_count": 54,
   "metadata": {},
   "outputs": [
    {
     "name": "stdout",
     "output_type": "stream",
     "text": [
      "ji\n",
      "in\n",
      "ne\n",
      "eo\n",
      "on\n",
      "ng\n",
      "gh\n",
      "hy\n",
      "ye\n",
      "eo\n",
      "on\n"
     ]
    }
   ],
   "source": [
    "# 28번\n",
    "data = input()\n",
    "\n",
    "# for i in range(len(data) - 1):\n",
    "# \tprint(data[i], data[i+1])\n",
    "\t\n",
    "for i in range(1, len(data)):\n",
    "\tprint(data[i-1] + data[i])"
   ]
  },
  {
   "cell_type": "code",
   "execution_count": 56,
   "metadata": {},
   "outputs": [
    {
     "name": "stdout",
     "output_type": "stream",
     "text": [
      "YES\n"
     ]
    }
   ],
   "source": [
    "# 29번\n",
    "data = input()\n",
    "\n",
    "if data.isupper():\n",
    "\tprint(\"YES\")\n",
    "else:\n",
    "\tprint(\"NO\")"
   ]
  },
  {
   "cell_type": "code",
   "execution_count": 60,
   "metadata": {},
   "outputs": [
    {
     "name": "stdout",
     "output_type": "stream",
     "text": [
      "6\n"
     ]
    }
   ],
   "source": [
    "# 30번\n",
    "data = input()\n",
    "word = input()\n",
    "\n",
    "if word in data:\n",
    "    print(data.find(word))"
   ]
  },
  {
   "cell_type": "code",
   "execution_count": null,
   "metadata": {},
   "outputs": [],
   "source": [
    "# 31번\n",
    "# 3)  l[a:b]\n",
    "\n",
    "# 정답은 '3번'입니다."
   ]
  },
  {
   "cell_type": "code",
   "execution_count": 66,
   "metadata": {},
   "outputs": [
    {
     "data": {
      "text/plain": [
       "['안녕하세요.',\n",
       " '',\n",
       " '',\n",
       " '',\n",
       " '',\n",
       " '',\n",
       " '',\n",
       " '',\n",
       " '',\n",
       " '',\n",
       " '',\n",
       " '',\n",
       " '',\n",
       " '저는',\n",
       " '제주대학교',\n",
       " '컴퓨터공학전공',\n",
       " '혜림입니다.']"
      ]
     },
     "execution_count": 66,
     "metadata": {},
     "output_type": "execute_result"
    }
   ],
   "source": [
    "# 32번\n",
    "# s = '안녕하세요.             저는 제주대학교 컴퓨터공학전공 혜림입니다.'\n",
    "# split_words = s.split(\" \")\n",
    "# len(split_words)\n",
    "\n",
    "s = '안녕하세요.             저는 제주대학교 컴퓨터공학전공 혜림입니다.'\n",
    "split_words = s.split(\" \")\n",
    "for i in range(split_words.count(\" \")):\n",
    "    split_words.remove(\" \")\n",
    "\n",
    "split_words\n"
   ]
  },
  {
   "cell_type": "code",
   "execution_count": 67,
   "metadata": {},
   "outputs": [
    {
     "data": {
      "text/plain": [
       "['30', '20', '10']"
      ]
     },
     "execution_count": 67,
     "metadata": {},
     "output_type": "execute_result"
    }
   ],
   "source": [
    "# 33번\n",
    "data = input()\n",
    "list(data.split(\" \"))[::-1]"
   ]
  },
  {
   "cell_type": "code",
   "execution_count": 69,
   "metadata": {},
   "outputs": [
    {
     "name": "stdout",
     "output_type": "stream",
     "text": [
      "Yes\n"
     ]
    }
   ],
   "source": [
    "# 34번\n",
    "keys = input()\n",
    "\n",
    "l = [float(i) for i in keys.split(\" \")]\n",
    "\n",
    "if l != sorted(l):\n",
    "    print('No')\n",
    "else:\n",
    "    print(\"Yes\")"
   ]
  },
  {
   "cell_type": "code",
   "execution_count": 70,
   "metadata": {},
   "outputs": [
    {
     "name": "stdout",
     "output_type": "stream",
     "text": [
      "100\n",
      "1000\n",
      "10000\n"
     ]
    }
   ],
   "source": [
    "# 35번\n",
    "def one(n):\n",
    "    def two(value):\n",
    "        sq = value ** n\n",
    "        return sq\n",
    "    return two\n",
    "\n",
    "a = one(2)\n",
    "b = one(3)\n",
    "c = one(4)\n",
    "print(a(10))\n",
    "print(b(10))\n",
    "print(c(10))"
   ]
  },
  {
   "cell_type": "code",
   "execution_count": 73,
   "metadata": {},
   "outputs": [
    {
     "name": "stdout",
     "output_type": "stream",
     "text": [
      "5 10 15 20 25 30 35 40 45 "
     ]
    }
   ],
   "source": [
    "# 36번\n",
    "n = int(input())\n",
    "for i in range(1, 10):\n",
    "\tprint(n*i, end = ' ')"
   ]
  },
  {
   "cell_type": "code",
   "execution_count": 74,
   "metadata": {},
   "outputs": [
    {
     "name": "stdout",
     "output_type": "stream",
     "text": [
      "ㅎ(이)가 총 4표로 반장이 되었습니다.\n"
     ]
    }
   ],
   "source": [
    "# 37번\n",
    "data = input().split()\n",
    "data_set = set(data)\n",
    "data_dict = {}\n",
    "for key in data_set:\n",
    "    data_dict[key] = data.count(key)\n",
    "\n",
    "print(f'{max(data_dict, key=data_dict.get)}(이)가 총 {max(data_dict.values())}표로 반장이 되었습니다.')"
   ]
  },
  {
   "cell_type": "code",
   "execution_count": null,
   "metadata": {},
   "outputs": [],
   "source": [
    "# 38번\n",
    "data = input().split()\n",
    "data = [int(i) for i in data]\n",
    "\n",
    "count = 0\n",
    "\n",
    "if len(set(data)) <= 3:\n",
    "    count = len(data)\n",
    "else:\n",
    "    break_point = sorted(list(set(data)), reverse=True)[3]\n",
    "    data_sorted = sorted(data, reverse=True)\n",
    "    for i in data_sorted:\n",
    "        if break_point == i:\n",
    "            break\n",
    "        else:\n",
    "            count += 1\n",
    "\n",
    "print(count)"
   ]
  },
  {
   "cell_type": "code",
   "execution_count": 76,
   "metadata": {},
   "outputs": [
    {
     "name": "stdout",
     "output_type": "stream",
     "text": [
      "hello my name is hyewon\n"
     ]
    }
   ],
   "source": [
    "# 39번\n",
    "data = input()\n",
    "\n",
    "print(data.replace('q', 'e').replace('b', 'n'))\n",
    "\n",
    "# import re\n",
    "# data = re.sub('q', 'e', data)\n",
    "# print(re.sub('q', 'e', data))"
   ]
  },
  {
   "cell_type": "code",
   "execution_count": null,
   "metadata": {},
   "outputs": [],
   "source": [
    "# 40번\n",
    "# total = 0\n",
    "# count = 0\n",
    "# limit = int(input('제한무게는 얼마인가요? : '))\n",
    "# n = int(input('몇명이 탈 수 있나요? : '))\n",
    " \n",
    "# for i in range(n):\n",
    "#     total += int(input('몸무게를 입력해주세요 : '))\n",
    "#     if total <= limit:\n",
    "#         count += 1\n",
    "\n",
    "        \n",
    "# print(count)\n",
    "\n",
    "#############################\n",
    "\n",
    "# 제한무게 = int(input())\n",
    "# 친구수 = int(input())\n",
    "# 친구몸무게 = []\n",
    "# for i in range(친구수):\n",
    "#     친구몸무게.append(int(input()))\n",
    "\n",
    "# 전체몸무게 = 0\n",
    "# for i in range(len(친구몸무게)):\n",
    "#     전체몸무게 += 친구몸무게[i]\n",
    "#     print(전체몸무게, 제한무게)\n",
    "#     if 전체몸무게 > 제한무게:\n",
    "#         print(i)\n",
    "#         break\n",
    "\n",
    "################################\n",
    "제한무게 = float(input())\n",
    "친구수 = int(input())\n",
    "친구몸무게 = []\n",
    "전체몸무게 = 0\n",
    "제한수 = 0\n",
    "비교 = True\n",
    "\n",
    "for i in range(친구수):\n",
    "    친구몸무게.append(float(input()))\n",
    "    전체몸무게 += 친구몸무게[i]\n",
    "    if 전체몸무게 > 제한무게:\n",
    "        if 비교:\n",
    "            비교 = False\n",
    "            제한수 = i\n",
    "if 제한수 == 0 and 친구몸무게[0] <= 제한무게:\n",
    "    print(len(친구몸무게))\n",
    "else:\n",
    "    print(제한수)"
   ]
  },
  {
   "cell_type": "code",
   "execution_count": 79,
   "metadata": {},
   "outputs": [
    {
     "name": "stdout",
     "output_type": "stream",
     "text": [
      "소수입니다.\n"
     ]
    }
   ],
   "source": [
    "# 41번\n",
    "#인터넷에서 에라토스테네스의 체를 검색해보시고, 에라토스테네스의 체를 구현해보세요.\n",
    "\n",
    "x = 7\n",
    "if x <= 1:\n",
    "    print('소수가 아닙니다.')\n",
    "elif x == 2:\n",
    "    print('소수입니다.')\n",
    "else:\n",
    "    for i in range(2, x):\n",
    "        if x % i == 0:\n",
    "            print('소수가 아닙니다.')\n",
    "            break\n",
    "    else:\n",
    "        print('소수입니다.')"
   ]
  },
  {
   "cell_type": "code",
   "execution_count": 82,
   "metadata": {},
   "outputs": [
    {
     "name": "stdout",
     "output_type": "stream",
     "text": [
      "TUE\n"
     ]
    }
   ],
   "source": [
    "# 42번\n",
    "import datetime\n",
    "\n",
    "m = int(input())\n",
    "d = int(input())\n",
    "\n",
    "def findDay(a, b):\n",
    "    day = [\"MON\",\"TUE\",\"WED\",\"THU\",\"FRI\",\"SAT\",\"SUN\"]\n",
    "    return day[datetime.date(2024, a, b).weekday()]\n",
    "\n",
    "print(findDay(m, d))"
   ]
  },
  {
   "cell_type": "code",
   "execution_count": 83,
   "metadata": {},
   "outputs": [
    {
     "name": "stdout",
     "output_type": "stream",
     "text": [
      "10\n",
      "5\n",
      "2\n",
      "1\n",
      "['0', '1', '0', '1']\n",
      "['1', '0', '1', '0']\n",
      "1010\n"
     ]
    }
   ],
   "source": [
    "# 43번\n",
    "a = int(input())\n",
    "b = []\n",
    "\n",
    "while a:\n",
    "    print(a)\n",
    "    b.append(str(a % 2))\n",
    "    a = int(a / 2)\n",
    "\n",
    "print(b)\n",
    "b.reverse()\n",
    "print(b)\n",
    "print(''.join(b))"
   ]
  },
  {
   "cell_type": "code",
   "execution_count": 85,
   "metadata": {},
   "outputs": [
    {
     "name": "stdout",
     "output_type": "stream",
     "text": [
      "15\n"
     ]
    }
   ],
   "source": [
    "# 44번\n",
    "result = 0\n",
    "for i in input():\n",
    "    result += int(i)\n",
    "\n",
    "print(result)"
   ]
  },
  {
   "cell_type": "code",
   "execution_count": 88,
   "metadata": {},
   "outputs": [
    {
     "name": "stdout",
     "output_type": "stream",
     "text": [
      "2024\n"
     ]
    }
   ],
   "source": [
    "# 45번\n",
    "import time\n",
    "t = time.time()\n",
    "t = t // (365*24*60*60) + 1970\n",
    "print(int(t))"
   ]
  },
  {
   "cell_type": "code",
   "execution_count": 89,
   "metadata": {},
   "outputs": [
    {
     "name": "stdout",
     "output_type": "stream",
     "text": [
      "0123456789101112131415161718192021222324252627282930313233343536373839404142434445464748495051525354555657585960616263646566676869707172737475767778798081828384858687888990919293949596979899100\n",
      "901\n"
     ]
    }
   ],
   "source": [
    "# 46번\n",
    "s = ''\n",
    "for i in range(101):\n",
    "    s += str(i)\n",
    "print(s)\n",
    "\n",
    "result = 0\n",
    "for i in s:\n",
    "    result += int(i)\n",
    "print(result)"
   ]
  },
  {
   "cell_type": "code",
   "execution_count": 90,
   "metadata": {},
   "outputs": [
    {
     "name": "stdout",
     "output_type": "stream",
     "text": [
      "5\n"
     ]
    }
   ],
   "source": [
    "# 47번\n",
    "people = [\n",
    "         ('이호준', '01050004429'),\n",
    "         ('이호상', '01051442904'),\n",
    "         ('이준호', '01050003429'),\n",
    "         ('이호준', '01050004429'),\n",
    "         ('이준', '01050412904'),\n",
    "         ('이호', '0105000443904'),\n",
    "         ('이호준', '01050004429'),\n",
    "         ]\n",
    "\n",
    "print(len(set(people)))"
   ]
  },
  {
   "cell_type": "code",
   "execution_count": 91,
   "metadata": {},
   "outputs": [
    {
     "data": {
      "text/plain": [
       "'AAAAABBcccc'"
      ]
     },
     "execution_count": 91,
     "metadata": {},
     "output_type": "execute_result"
    }
   ],
   "source": [
    "# 48번\n",
    "a = input()\n",
    "b = []\n",
    "\n",
    "for i in a:\n",
    "    if i.islower():\n",
    "        b.append(i.upper())\n",
    "    else:\n",
    "        b.append(i.lower())\n",
    "\n",
    "''.join(b)"
   ]
  },
  {
   "cell_type": "code",
   "execution_count": 95,
   "metadata": {},
   "outputs": [
    {
     "data": {
      "text/plain": [
       "31"
      ]
     },
     "execution_count": 95,
     "metadata": {},
     "output_type": "execute_result"
    }
   ],
   "source": [
    "# 49번\n",
    "data = list(map(int, input().split()))\n",
    "sorted(data, reverse=True)[0]\n",
    "# max(data)"
   ]
  },
  {
   "cell_type": "code",
   "execution_count": null,
   "metadata": {},
   "outputs": [],
   "source": [
    "# 50번\n",
    "def bubble(n, data):\n",
    "\tfor i in range(n-1):\n",
    "\t\tfor j in range(n-i-1):\n",
    "\t\t\tif data[j] > data[j+1]:\n",
    "\t\t\t\tdata[j], data[j+1] = data[j+1], data[j]\n",
    "\tfor i in range(n):\n",
    "\t\tprint(data[i], end = \" \")\n",
    "\n",
    "n = int(input())\n",
    "data = list(map(int, input().split()))\n",
    "\n",
    "bubble(n, data)"
   ]
  }
 ],
 "metadata": {
  "kernelspec": {
   "display_name": "Python 3",
   "language": "python",
   "name": "python3"
  },
  "language_info": {
   "codemirror_mode": {
    "name": "ipython",
    "version": 3
   },
   "file_extension": ".py",
   "mimetype": "text/x-python",
   "name": "python",
   "nbconvert_exporter": "python",
   "pygments_lexer": "ipython3",
   "version": "3.12.2"
  }
 },
 "nbformat": 4,
 "nbformat_minor": 2
}
