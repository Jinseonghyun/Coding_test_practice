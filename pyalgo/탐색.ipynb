{
 "cells": [
  {
   "cell_type": "code",
   "execution_count": 6,
   "metadata": {},
   "outputs": [
    {
     "data": {
      "text/plain": [
       "True"
      ]
     },
     "execution_count": 6,
     "metadata": {},
     "output_type": "execute_result"
    }
   ],
   "source": [
    "# 2차원 배열 탐색\n",
    "\n",
    "data = ([[1, 3, 5], [7, 9, 11], [13, 15, 17]], 7)\n",
    "\n",
    "def solutions(data):\n",
    "    arr, target = data\n",
    "    for row in arr:\n",
    "        if target in row:\n",
    "            return True\n",
    "\n",
    "    return False\n",
    "solutions(([[1, 3, 5], [7, 9, 11], [13, 15, 17]], 7))"
   ]
  },
  {
   "cell_type": "code",
   "execution_count": 8,
   "metadata": {},
   "outputs": [
    {
     "data": {
      "text/plain": [
       "True"
      ]
     },
     "execution_count": 8,
     "metadata": {},
     "output_type": "execute_result"
    }
   ],
   "source": [
    "# 2차원 배열 탐색 다른 풀이\n",
    "\n",
    "def solutions(data):\n",
    "    arr, target = data\n",
    "    return any([target in row for row in arr])\n",
    "\n",
    "solutions(([[1, 3, 5], [7, 9, 11], [13, 15, 17]], 7))"
   ]
  },
  {
   "cell_type": "code",
   "execution_count": 10,
   "metadata": {},
   "outputs": [
    {
     "data": {
      "text/plain": [
       "True"
      ]
     },
     "execution_count": 10,
     "metadata": {},
     "output_type": "execute_result"
    }
   ],
   "source": [
    "# 2차원 배열 탐색 다른 풀이2\n",
    "# 원래 리스트로 sum 이 안되지만 초기값을 빈리스트로 주어서 평탄화 가능하게해줌\n",
    "\n",
    "def solutions(data):\n",
    "    arr, target = data\n",
    "    return target in sum(arr, [])\n",
    "\n",
    "solutions(([[1, 3, 5], [7, 9, 11], [13, 15, 17]], 7))"
   ]
  }
 ],
 "metadata": {
  "kernelspec": {
   "display_name": "Python 3",
   "language": "python",
   "name": "python3"
  },
  "language_info": {
   "codemirror_mode": {
    "name": "ipython",
    "version": 3
   },
   "file_extension": ".py",
   "mimetype": "text/x-python",
   "name": "python",
   "nbconvert_exporter": "python",
   "pygments_lexer": "ipython3",
   "version": "3.12.1"
  }
 },
 "nbformat": 4,
 "nbformat_minor": 2
}
