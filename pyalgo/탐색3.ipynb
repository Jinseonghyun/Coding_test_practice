{
 "cells": [
  {
   "cell_type": "code",
   "execution_count": null,
   "metadata": {},
   "outputs": [],
   "source": [
    "# 최대 합계 배열 찾기\n",
    "\n",
    "def solution(data):\n",
    "    array, k = data\n",
    "    # 초기 윈도우 합계 계산\n",
    "    window_sum = sum(array[:k])\n",
    "    max_sum = window_sum\n",
    "\n",
    "    # 윈도우를 슬라이드하면서 최대 합계 찾기\n",
    "    for i in range(k, len(array)):\n",
    "        # 윈도우에 새로 추가된 요소 더하고, 이전 윈도우의 첫 번째 요소 빼기\n",
    "        window_sum = window_sum + array[i] - array[i - k]\n",
    "\n",
    "        # 최대 합계 업데이트\n",
    "        max_sum = max(max_sum, window_sum)\n",
    "\n",
    "    return max_sum"
   ]
  },
  {
   "cell_type": "code",
   "execution_count": null,
   "metadata": {},
   "outputs": [],
   "source": [
    "# 작은 길이 부분 배열 찾기\n",
    "\n",
    "def solution(data):\n",
    "    nums, target_sum = data\n",
    "    min_length = float('inf')  # 최소 길이를 저장하는 변수를 무한대로 초기화\n",
    "\n",
    "    current_sum = 0\n",
    "    start = 0\n",
    "\n",
    "    for end in range(len(nums)):\n",
    "        current_sum += nums[end]\n",
    "\n",
    "        while current_sum >= target_sum:\n",
    "            min_length = min(min_length, end - start + 1)\n",
    "            current_sum -= nums[start]\n",
    "            start += 1\n",
    "\n",
    "    if min_length == float('inf'):\n",
    "        return 0\n",
    "    else:\n",
    "        return min_length"
   ]
  }
 ],
 "metadata": {
  "language_info": {
   "name": "python"
  }
 },
 "nbformat": 4,
 "nbformat_minor": 2
}
