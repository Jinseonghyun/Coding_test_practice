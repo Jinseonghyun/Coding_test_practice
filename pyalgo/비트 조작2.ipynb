{
 "cells": [
  {
   "cell_type": "code",
   "execution_count": null,
   "metadata": {},
   "outputs": [],
   "source": [
    "# 비트 연산\n",
    "\n",
    "def solution(data):\n",
    "    # 배열 내 모든 요소에 대한 비트 AND 연산 결과 계산\n",
    "    and_result = data[0]\n",
    "    for num in data[1:]:\n",
    "        and_result &= num\n",
    "\n",
    "    # 배열 내 모든 요소에 대한 비트 OR 연산 결과 계산\n",
    "    or_result = data[0]\n",
    "    for num in data[1:]:\n",
    "        or_result |= num\n",
    "\n",
    "    return and_result, or_result"
   ]
  },
  {
   "cell_type": "code",
   "execution_count": null,
   "metadata": {},
   "outputs": [],
   "source": [
    "# 비트 연산 다른 풀이\n",
    "\n",
    "import functools, operator\n",
    "\n",
    "def solution(data):\n",
    "    # functools.reduce()는 시퀀스형 자료형의 모든 요소에 주어진 함수를 적용한 결과 반환\n",
    "    # functools.reduce(함수, 시퀀스자료형)\n",
    "    # operator 모듈은 특정 연산자의 결과를 반환한다.\n",
    "    and_ = functools.reduce(operator.and_, data)\n",
    "    or_ = functools.reduce(operator.or_, data)\n",
    "    return (and_, or_)"
   ]
  }
 ],
 "metadata": {
  "language_info": {
   "name": "python"
  }
 },
 "nbformat": 4,
 "nbformat_minor": 2
}
