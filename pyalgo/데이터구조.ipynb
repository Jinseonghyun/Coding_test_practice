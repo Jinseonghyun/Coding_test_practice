{
 "cells": [
  {
   "cell_type": "code",
   "execution_count": null,
   "metadata": {},
   "outputs": [],
   "source": [
    "# 괄호 짝 맞추기\n",
    "\n",
    "def solution(data):\n",
    "    stack = []\n",
    "    bracket_map = {\"(\": \")\", \"{\": \"}\", \"[\": \"]\"}\n",
    "\n",
    "    for char in data:\n",
    "        if char in bracket_map:\n",
    "            stack.append(char)\n",
    "        elif stack and char == bracket_map[stack[-1]]:\n",
    "            stack.pop()\n",
    "        else:\n",
    "            return False\n",
    "\n",
    "    return not stack"
   ]
  },
  {
   "cell_type": "code",
   "execution_count": null,
   "metadata": {},
   "outputs": [],
   "source": [
    "# 최근 요청 기록 관리\n",
    "\n",
    "def solution(data):\n",
    "    size = data['size']\n",
    "    requests = data['requests']\n",
    "\n",
    "    return requests[-(size):]"
   ]
  },
  {
   "cell_type": "code",
   "execution_count": null,
   "metadata": {},
   "outputs": [],
   "source": [
    "# 최근 사용된 페이지 관리\n",
    "\n",
    "def solution(data):\n",
    "    size = data['size']\n",
    "    pages = data['pages']\n",
    "\n",
    "    return pages[-(size):]"
   ]
  }
 ],
 "metadata": {
  "language_info": {
   "name": "python"
  }
 },
 "nbformat": 4,
 "nbformat_minor": 2
}
