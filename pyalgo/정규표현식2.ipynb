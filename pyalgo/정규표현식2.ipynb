{
 "cells": [
  {
   "cell_type": "code",
   "execution_count": null,
   "metadata": {},
   "outputs": [],
   "source": [
    "# 전화번호 형식 변환\n",
    "import re\n",
    "\n",
    "def solution(data):\n",
    "    def format_phone_number(match):\n",
    "        phone_number = match.group(0)\n",
    "        if len(phone_number) == 10:\n",
    "            return f\"{phone_number[:3]}-{phone_number[3:7]}-{phone_number[7:]}\"\n",
    "        elif len(phone_number) == 11:\n",
    "            return f\"{phone_number[:3]}-{phone_number[3:7]}-{phone_number[7:]}\"\n",
    "        else:\n",
    "            return phone_number\n",
    "\n",
    "    # 정규표현식을 사용하여 전화번호 찾기\n",
    "    pattern = re.compile(r'\\b\\d{10,11}\\b')\n",
    "    result = pattern.sub(format_phone_number, data)\n",
    "\n",
    "    return result"
   ]
  },
  {
   "cell_type": "code",
   "execution_count": null,
   "metadata": {},
   "outputs": [],
   "source": [
    "# 전화번호 형식 변환 다른 풀이\n",
    "\n",
    "import re\n",
    "\n",
    "data = \"No numbers here.\"\n",
    "\n",
    "def solution(data):\n",
    "    return re.sub(r'(\\d{3})(\\d{4})(\\d{3,4})', r'\\1-\\2-\\3', data)  #그룹화와, 그룹별 구분\n",
    "\n",
    "solution(data)"
   ]
  },
  {
   "cell_type": "code",
   "execution_count": null,
   "metadata": {},
   "outputs": [],
   "source": [
    "# 전화번호 형식 변환 다른 풀이2\n",
    "\n",
    "import re\n",
    "\n",
    "def solution(data):\n",
    "    result = re.sub(r\"(\\d{3})(\\d{4})(\\d{3,4})\", r\"\\1-\\2-\\3\", data)\n",
    "    return result"
   ]
  },
  {
   "cell_type": "code",
   "execution_count": null,
   "metadata": {},
   "outputs": [],
   "source": [
    "# 로그 파일 분석\n",
    "import re\n",
    "\n",
    "def solution(data):\n",
    "    pattern = r\"\\[(?P<time>\\d{2}:\\d{2}:\\d{2})\\] (?P<message>.+)\"\n",
    "    match = re.match(pattern, data)\n",
    "    if match:\n",
    "        return match.groupdict()\n",
    "    else:\n",
    "        return None"
   ]
  },
  {
   "cell_type": "code",
   "execution_count": null,
   "metadata": {},
   "outputs": [],
   "source": [
    "# 로그 파일 분석 다른 풀이\n",
    "\n",
    "import re\n",
    "\n",
    "def solution(data):\n",
    "    values = re.findall(r\"([0-9:]{8})\\] (\\w+\\s\\w+)\", data)\n",
    "    time, message = values[0]\n",
    "    return {\"time\": time, \"message\": message}"
   ]
  }
 ],
 "metadata": {
  "language_info": {
   "name": "python"
  }
 },
 "nbformat": 4,
 "nbformat_minor": 2
}
