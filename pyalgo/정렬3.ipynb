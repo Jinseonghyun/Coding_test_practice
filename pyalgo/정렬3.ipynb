{
 "cells": [
  {
   "cell_type": "code",
   "execution_count": 15,
   "metadata": {},
   "outputs": [
    {
     "data": {
      "text/plain": [
       "['Moby Dick', '1984', 'To Kill a Mockingbird']"
      ]
     },
     "execution_count": 15,
     "metadata": {},
     "output_type": "execute_result"
    }
   ],
   "source": [
    "# 도서관 책 위치 정렬\n",
    "\n",
    "data = {'AX21': 'Moby Dick', 'BX32': '1984', 'CX14': 'To Kill a Mockingbird'}\n",
    "\n",
    "sorted_data = sorted(data.keys())\n",
    "[data[i] for i in sorted_data]"
   ]
  },
  {
   "cell_type": "code",
   "execution_count": 21,
   "metadata": {},
   "outputs": [
    {
     "data": {
      "text/plain": [
       "['12:00 AM', '09:00 AM', '11:30 AM', '12:45 PM', '01:00 PM']"
      ]
     },
     "execution_count": 21,
     "metadata": {},
     "output_type": "execute_result"
    }
   ],
   "source": [
    "# 위니브 회의 시간표 정렬\n",
    "time = ['01:00 PM', '11:30 AM', '12:45 PM', '09:00 AM', '12:00 AM']\n",
    "\n",
    "def solution(data):\n",
    "    def convert_time(time):\n",
    "        hh, mm, ampm, = time.split(\" \")[0].split(\":\") + time.split(\" \")[1:]\n",
    "        if ampm == \"PM\" and hh != \"12\":\n",
    "            hh = str(int(hh) + 12)\n",
    "        elif ampm == \"AM\" and hh == \"12\":\n",
    "            hh = \"00\"\n",
    "      # return hh + \":\" + mm + \" \" + ampm\n",
    "        return f'{hh}:{mm} {ampm}'\n",
    "    return sorted(data, key = convert_time)\n",
    "\n",
    "solution(['01:00 PM', '11:30 AM', '12:45 PM', '09:00 AM', '12:00 AM'])"
   ]
  },
  {
   "cell_type": "code",
   "execution_count": 23,
   "metadata": {},
   "outputs": [],
   "source": [
    "# 뮤라의 휴가 입력\n",
    "\n",
    "date = ['03/25/2021', '2020.12.31', '15-04-2022']\n",
    "\n",
    "def solution(data):\n",
    "    def convert_date(date):\n",
    "        if '-' in date:\n",
    "            day, month, year = date.split('-')\n",
    "        elif '/' in date:\n",
    "            month, day, year = date.split('/')\n",
    "        else:\n",
    "            year, month, day = date.split('.')\n",
    "        return year, month, day\n",
    "\n",
    "    converted_dates = [convert_date(date) for date in data]\n",
    "    sorted_dates = sorted(converted_dates)\n",
    "    return [\"/\".join(date) for date in sorted_dates]"
   ]
  },
  {
   "cell_type": "code",
   "execution_count": 24,
   "metadata": {},
   "outputs": [
    {
     "data": {
      "text/plain": [
       "['2020/12/31', '2021/03/25', '2022/04/15']"
      ]
     },
     "execution_count": 24,
     "metadata": {},
     "output_type": "execute_result"
    }
   ],
   "source": [
    "solution(date)"
   ]
  }
 ],
 "metadata": {
  "kernelspec": {
   "display_name": "Python 3",
   "language": "python",
   "name": "python3"
  },
  "language_info": {
   "codemirror_mode": {
    "name": "ipython",
    "version": 3
   },
   "file_extension": ".py",
   "mimetype": "text/x-python",
   "name": "python",
   "nbconvert_exporter": "python",
   "pygments_lexer": "ipython3",
   "version": "3.12.1"
  }
 },
 "nbformat": 4,
 "nbformat_minor": 2
}
