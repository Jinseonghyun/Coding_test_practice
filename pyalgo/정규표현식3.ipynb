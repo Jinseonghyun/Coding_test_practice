{
 "cells": [
  {
   "cell_type": "code",
   "execution_count": null,
   "metadata": {},
   "outputs": [],
   "source": [
    "# URL 및 쿼리스트링 파싱\n",
    "\n",
    "import re\n",
    "\n",
    "def solution(data):\n",
    "    result = re.match(r\"(?P<protocol>.*)://(?P<domain>.[^/]*)(?P<path>[^?]*)\\??(?P<query>.*)\", data)\n",
    "    return result.groupdict()"
   ]
  },
  {
   "cell_type": "code",
   "execution_count": null,
   "metadata": {},
   "outputs": [],
   "source": [
    "# URL 및 쿼리스트링 파싱 다른 풀이\n",
    "\n",
    "import re\n",
    "\n",
    "def solution(url):\n",
    "    # *표시는 가능한 많은 패턴을 찾기에 *와 ?를 같이 사용해 첫번째 패턴을 찾으면 종료하도록 설정\n",
    "    pattern = re.compile(r'(.*?):\\/\\/([^\\/]*)(\\/[^?]*)?(\\?.*)?')\n",
    "    match = pattern.search(url)\n",
    "    \n",
    "    if match is None:\n",
    "        return {'protocol': '', 'domain': '', 'path': '', 'query': ''}\n",
    "    \n",
    "    protocol = match.group(1) if match.group(1) else ''\n",
    "    domain = match.group(2) if match.group(2) else ''\n",
    "    path = match.group(3) if match.group(3) else ''\n",
    "    query = match.group(4)[1:] if match.group(4) else ''\n",
    "    \n",
    "    return {'protocol': protocol, 'domain': domain, 'path': path, 'query': query}"
   ]
  },
  {
   "cell_type": "code",
   "execution_count": null,
   "metadata": {},
   "outputs": [],
   "source": [
    "# 파일 확장자 추출\n",
    "\n",
    "def solution(data):\n",
    "    pattern = r\".*\\.([^./]+)$\"\n",
    "    match = re.search(pattern, data)\n",
    "    if match:\n",
    "        return match.group(1)\n",
    "    else:\n",
    "        return \"\""
   ]
  },
  {
   "cell_type": "code",
   "execution_count": null,
   "metadata": {},
   "outputs": [],
   "source": [
    "# 파일 확장자 추출 다른 풀이\n",
    "\n",
    "def solution(data):\n",
    "    my_str = data.split('.')\n",
    "    return my_str[-1] if len(my_str) != 1 else ''"
   ]
  },
  {
   "cell_type": "code",
   "execution_count": null,
   "metadata": {},
   "outputs": [],
   "source": [
    "# 숫자 추출\n",
    "\n",
    "\n",
    "def solution(data):\n",
    "    return \"\".join([char for char in data if char.isdigit()])"
   ]
  },
  {
   "cell_type": "code",
   "execution_count": null,
   "metadata": {},
   "outputs": [],
   "source": [
    "# 숫자 추출 다른 풀이\n",
    "\n",
    "import re\n",
    "\n",
    "def solution(data):\n",
    "    result = re.sub(\"\\D\", \"\", data)\n",
    "    return result"
   ]
  }
 ],
 "metadata": {
  "language_info": {
   "name": "python"
  }
 },
 "nbformat": 4,
 "nbformat_minor": 2
}
