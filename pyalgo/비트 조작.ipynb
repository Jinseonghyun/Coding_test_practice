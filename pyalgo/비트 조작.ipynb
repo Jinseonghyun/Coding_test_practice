{
 "cells": [
  {
   "cell_type": "code",
   "execution_count": null,
   "metadata": {},
   "outputs": [],
   "source": [
    "# 비트 치환 문제\n",
    "\n",
    "def solution(N):\n",
    "    # 정수 N을 이진수로 변환 후 1을 'A', 0을 'B'로 치환하여 문자열로 반환\n",
    "    binary_str = bin(N)[2:]\n",
    "    result_str = ''.join(['A' if bit == '1' else 'B' for bit in binary_str])\n",
    "    return result_str"
   ]
  },
  {
   "cell_type": "code",
   "execution_count": null,
   "metadata": {},
   "outputs": [],
   "source": [
    "# 비트 치환 문제 다른 풀이\n",
    "\n",
    "def solution(data):\n",
    "    binary_data = bin(data)[2:]\n",
    "    return binary_data.replace('1','A').replace('0','B')"
   ]
  },
  {
   "cell_type": "code",
   "execution_count": null,
   "metadata": {},
   "outputs": [],
   "source": [
    "# 비트 치환 문제 다른 풀이\n",
    "\n",
    "def solution(data):\n",
    "    b = bin(data)[2:]  #bin(): 정수의 이진 표현  #[2:]: Ob제거\n",
    "    r_b = b.replace('1', 'A').replace('0', 'B')\n",
    "\n",
    "    return r_b"
   ]
  },
  {
   "cell_type": "code",
   "execution_count": null,
   "metadata": {},
   "outputs": [],
   "source": [
    "# 비트 반전 정수 다른 풀이\n",
    "\n",
    "def solution(data):\n",
    "    # 이진 표현에서 모든 비트를 반전시킨 후, 정수로 변환\n",
    "    reversed_bits = int(bin(data)[2:].zfill(10).replace('0', '2').replace('1', '0').replace('2', '1'), 2)\n",
    "    return reversed_bits"
   ]
  },
  {
   "cell_type": "code",
   "execution_count": null,
   "metadata": {},
   "outputs": [],
   "source": [
    "# 비트 반전 정수 다른 풀이\n",
    "\n",
    "def solution(data):\n",
    "    # N은 10자리 이진수 (10개비트가 모두 1인 수) -> 1111111111\n",
    "    # 1000과 가장 가까운 1024에서 data 빼기\n",
    "    return 1023 - data"
   ]
  }
 ],
 "metadata": {
  "language_info": {
   "name": "python"
  }
 },
 "nbformat": 4,
 "nbformat_minor": 2
}
