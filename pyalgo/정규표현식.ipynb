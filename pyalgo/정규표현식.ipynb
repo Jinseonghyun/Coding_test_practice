{
 "cells": [
  {
   "cell_type": "code",
   "execution_count": null,
   "metadata": {},
   "outputs": [],
   "source": [
    "# 이메일 주소 검증\n",
    "\n",
    "def solution(data):\n",
    "    import re\n",
    "    # 이메일 주소를 검사하는 정규표현식\n",
    "    email_pattern = r'^[a-zA-Z0-9._%+-]+@[a-zA-Z0-9.-]+\\.[a-zA-Z]{2,}$'\n",
    "    \n",
    "    # 정규표현식에 맞게 검사\n",
    "    return bool(re.match(email_pattern, data))"
   ]
  },
  {
   "cell_type": "code",
   "execution_count": null,
   "metadata": {},
   "outputs": [],
   "source": [
    "# 이메일 주소 검증 다른 풀이\n",
    "\n",
    "def solution(data):\n",
    "    import re\n",
    "    pattern = r'^[a-zA-Z0-9._+]+@[a-zA-Z0-9._+]+\\.[a-zA-Z]{2,}$'\n",
    "    return bool(re.match(pattern, data))"
   ]
  },
  {
   "cell_type": "code",
   "execution_count": null,
   "metadata": {},
   "outputs": [],
   "source": [
    "# 날짜 패턴 찾기\n",
    "\n",
    "def solution(data):\n",
    "    import re\n",
    "    \n",
    "    # 날짜를 찾아 연도, 월, 일로 그룹화하는 정규표현식\n",
    "    date_pattern = r'(\\d{4})-(\\d{2})-(\\d{2})'\n",
    "    \n",
    "    # 정규표현식에 맞게 날짜 추출\n",
    "    matches = re.findall(date_pattern, data)\n",
    "    \n",
    "    # 연도, 월, 일을 튜플 형태로 리스트에 담아 반환\n",
    "    date_list = [(int(year), int(month), int(day)) for year, month, day in matches]\n",
    "    \n",
    "    return date_list"
   ]
  },
  {
   "cell_type": "code",
   "execution_count": null,
   "metadata": {},
   "outputs": [],
   "source": [
    "# 날짜 패턴 찾기 다른 풀이\n",
    "\n",
    "import re\n",
    "def solution(data):\n",
    "    p = re.findall(r'[0-9]+-[0-9]+-[0-9]+', data)\n",
    "    return [tuple(map(int, i.split('-'))) for i in p]"
   ]
  },
  {
   "cell_type": "code",
   "execution_count": null,
   "metadata": {},
   "outputs": [],
   "source": [
    "# HTML 태그 제거\n",
    "\n",
    "def solution(data):\n",
    "    # 정규표현식을 사용하여 HTML 태그 제거\n",
    "    cleaned_text = re.sub(r'<[^>]*>', '', data)\n",
    "    return cleaned_text"
   ]
  },
  {
   "cell_type": "code",
   "execution_count": null,
   "metadata": {},
   "outputs": [],
   "source": [
    "# HTML 태그 제거 다른 풀이\n",
    "\n",
    "import re\n",
    "\n",
    "def solution(data):\n",
    "    result = re.sub(r\"<[^>]+>\", \"\", data)\n",
    "    return result"
   ]
  }
 ],
 "metadata": {
  "language_info": {
   "name": "python"
  }
 },
 "nbformat": 4,
 "nbformat_minor": 2
}
