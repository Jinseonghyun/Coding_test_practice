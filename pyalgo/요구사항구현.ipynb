{
 "cells": [
  {
   "cell_type": "code",
   "execution_count": 5,
   "metadata": {},
   "outputs": [],
   "source": [
    "# 더하기\n",
    "# 주어진 리스트 내에 홀수를 찾아 합을 반환하는 solution 함수를 완성해주세요.\n",
    "\n",
    "data = [1, 2, 3, 4, 5]\n",
    "\n",
    "def solution(data):\n",
    "    return sum(filter((lambda x: x % 2, data)))"
   ]
  },
  {
   "cell_type": "code",
   "execution_count": 12,
   "metadata": {},
   "outputs": [
    {
     "data": {
      "text/plain": [
       "9"
      ]
     },
     "execution_count": 12,
     "metadata": {},
     "output_type": "execute_result"
    }
   ],
   "source": [
    "# 더하기 답\n",
    "sum(filter(lambda x: x % 2, data))"
   ]
  },
  {
   "cell_type": "code",
   "execution_count": 13,
   "metadata": {},
   "outputs": [],
   "source": [
    "# 곱하기\n",
    "# 주어진 리스트를 모두 곱하는 solution 함수를 완성해주세요.\n",
    "\n",
    "data = [1, 2, 3, 4, 5]\n",
    "\n",
    "def solution(data):\n",
    "\n",
    "    if not data:\n",
    "        return 0\n",
    "    result = 1\n",
    "    for i in data:\n",
    "        if i == 0:\n",
    "            return 0\n",
    "        result *= i\n",
    "\n",
    "    return result"
   ]
  },
  {
   "cell_type": "code",
   "execution_count": 19,
   "metadata": {},
   "outputs": [
    {
     "data": {
      "text/plain": [
       "120"
      ]
     },
     "execution_count": 19,
     "metadata": {},
     "output_type": "execute_result"
    }
   ],
   "source": [
    "# 곱하기 답\n",
    "solution(data)"
   ]
  },
  {
   "cell_type": "code",
   "execution_count": 24,
   "metadata": {},
   "outputs": [
    {
     "data": {
      "text/plain": [
       "7"
      ]
     },
     "execution_count": 24,
     "metadata": {},
     "output_type": "execute_result"
    }
   ],
   "source": [
    "# 조건 덧셈\n",
    "# 주어진 리스트에서 3과 5의 배수를 제외한 모든 수를 더하는 solution 함수를 완성해주세요.\n",
    "data = [1, 2, 3, 4, 5]\n",
    "\n",
    "sum(list(filter(lambda x: x % 3 and x % 5, data)))"
   ]
  },
  {
   "cell_type": "code",
   "execution_count": 22,
   "metadata": {},
   "outputs": [],
   "source": [
    "# 조건 덧셈 답\n",
    "\n",
    "data = [1, 2, 3, 4, 5]\n",
    "\n",
    "def solution(data):\n",
    "    return sum(list(filter(lambda x: x % 3 and x % 5, data)))"
   ]
  },
  {
   "cell_type": "code",
   "execution_count": 35,
   "metadata": {},
   "outputs": [
    {
     "name": "stdout",
     "output_type": "stream",
     "text": [
      "22\n"
     ]
    }
   ],
   "source": [
    "# 크리스마스 쿠키\n",
    "# 라이캣은 크리스마스 선물 룰렛 게임을 하고 있습니다. \n",
    "# 룰렛에는 '쿠키 1개'부터 '쿠키 10개'까지 값이 들어 있습니다. \n",
    "# 룰렛은 총 3번 돌릴 수 있고, 첫번째 시도에서 나온 값은 곱하기 1을 하고,\n",
    "# 두번째 시도에서 나온 값은 곱하기 2를 하고 세번째 시도에서 나온 값은 곱하기 3을 하기로 하였습니다.\n",
    "# 라이캣이 가져갈 쿠키의 수를 리턴하는 함수를 완성해주세요.\n",
    "\n",
    "data = ['쿠키 3개', '쿠키 2개', '쿠키 5개']\n",
    "\n",
    "result = 0\n",
    "\n",
    "for i, s in enumerate(data):\n",
    "    number = int(s.split(\" \")[1].replace(\"개\", \"\"))\n",
    "    i += 1\n",
    "    result += i * number\n",
    "\n",
    "print(result)\n"
   ]
  },
  {
   "cell_type": "code",
   "execution_count": 36,
   "metadata": {},
   "outputs": [],
   "source": [
    "# 크리스마스 쿠키 답\n",
    "\n",
    "def solution(data):\n",
    "    result = 0\n",
    "    for i, s in enumerate(data):\n",
    "        number = int(s.split(\" \")[1].replace(\"개\", \"\"))\n",
    "        i += 1\n",
    "        result += i * number\n",
    "    return result"
   ]
  },
  {
   "cell_type": "code",
   "execution_count": 42,
   "metadata": {},
   "outputs": [
    {
     "name": "stdout",
     "output_type": "stream",
     "text": [
      "10\n"
     ]
    }
   ],
   "source": [
    "# 1의 갯수 반환 \n",
    "# 주어진 리스트의 값 중 1의 갯수를 반환하는 solution 함수를 완성해주세요.\n",
    "\n",
    "data = [1, 11, 111, 1111]\n",
    "\n",
    "result = ''.join(str(data)).count('1')\n",
    "\n",
    "print(result)"
   ]
  },
  {
   "cell_type": "code",
   "execution_count": 43,
   "metadata": {},
   "outputs": [],
   "source": [
    "# 1의 갯수 반환 답\n",
    "\n",
    "def solution(data):\n",
    "    return ''.join(map(str, data)).count('1')"
   ]
  },
  {
   "cell_type": "code",
   "execution_count": null,
   "metadata": {},
   "outputs": [],
   "source": [
    "# 1의 갯수 반환 다른풀이\n",
    "# map 활용\n",
    "\n",
    "def solution(data):\n",
    "    return ''.join(map(str, data)).count('1')"
   ]
  },
  {
   "cell_type": "code",
   "execution_count": 11,
   "metadata": {},
   "outputs": [
    {
     "data": {
      "text/plain": [
       "6"
      ]
     },
     "execution_count": 11,
     "metadata": {},
     "output_type": "execute_result"
    }
   ],
   "source": [
    "# 문자열 덧셈\n",
    "# 주어진 문자열의 숫자를 모두 더하는 solution 함수를 완성해주세요.\n",
    "\n",
    "data = '1hel2lo3'\n",
    "\n",
    "result = sum(map(int,filter(str.isdigit, data)))\n",
    "result"
   ]
  },
  {
   "cell_type": "code",
   "execution_count": null,
   "metadata": {},
   "outputs": [],
   "source": [
    "# 문자열 덧셈 답\n",
    "\n",
    "def solution(data):\n",
    "    return sum(map(int,filter(str.isdigit, data)))"
   ]
  },
  {
   "cell_type": "code",
   "execution_count": null,
   "metadata": {},
   "outputs": [],
   "source": []
  }
 ],
 "metadata": {
  "kernelspec": {
   "display_name": "venv",
   "language": "python",
   "name": "python3"
  },
  "language_info": {
   "codemirror_mode": {
    "name": "ipython",
    "version": 3
   },
   "file_extension": ".py",
   "mimetype": "text/x-python",
   "name": "python",
   "nbconvert_exporter": "python",
   "pygments_lexer": "ipython3",
   "version": "3.12.1"
  }
 },
 "nbformat": 4,
 "nbformat_minor": 2
}
