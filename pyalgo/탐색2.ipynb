{
 "cells": [
  {
   "cell_type": "code",
   "execution_count": 2,
   "metadata": {},
   "outputs": [
    {
     "name": "stdout",
     "output_type": "stream",
     "text": [
      "-2 -1\n",
      "3 2\n",
      "4 7\n",
      "-1 6\n",
      "2 8\n",
      "1 9\n",
      "-5 4\n",
      "4 8\n"
     ]
    },
    {
     "data": {
      "text/plain": [
       "9"
      ]
     },
     "execution_count": 2,
     "metadata": {},
     "output_type": "execute_result"
    }
   ],
   "source": [
    "# 카데인 알고리즘\n",
    "# 연속 수열의 최대합\n",
    "\n",
    "def solution(data):\n",
    "    if not data:\n",
    "        return 0\n",
    "    \n",
    "    max_sum = current_sum = data[0]\n",
    "\n",
    "    for num in data[1:]:\n",
    "        print(num, current_sum + num)\n",
    "        current_sum = max(num, current_sum + num)\n",
    "        max_sum = max(max_sum, current_sum)\n",
    "\n",
    "    return max_sum\n",
    "\n",
    "solution([1, -2, 3, 4, -1, 2, 1, -5, 4])"
   ]
  },
  {
   "cell_type": "code",
   "execution_count": null,
   "metadata": {},
   "outputs": [],
   "source": [
    "# 에라토스테네스의 체\n",
    "# 소수 찾기\n",
    "\n",
    "def solution(N):\n",
    "    # 2부터 N까지의 모든 숫자를 포함하는 리스트 생성\n",
    "    numbers = list(range(2, N + 1))\n",
    "\n",
    "    # 에라토스테네스의 체 알고리즘 적용\n",
    "    for i in range(2, int(N**0.5) + 1):\n",
    "        if i in numbers:\n",
    "            # i의 배수를 모두 제거\n",
    "            numbers = [num for num in numbers if (num % i != 0) or (num == i)]\n",
    "\n",
    "    # 남아있는 숫자는 소수이므로 개수 반환\n",
    "    return len(numbers)"
   ]
  }
 ],
 "metadata": {
  "kernelspec": {
   "display_name": "Python 3",
   "language": "python",
   "name": "python3"
  },
  "language_info": {
   "codemirror_mode": {
    "name": "ipython",
    "version": 3
   },
   "file_extension": ".py",
   "mimetype": "text/x-python",
   "name": "python",
   "nbconvert_exporter": "python",
   "pygments_lexer": "ipython3",
   "version": "3.12.1"
  }
 },
 "nbformat": 4,
 "nbformat_minor": 2
}
