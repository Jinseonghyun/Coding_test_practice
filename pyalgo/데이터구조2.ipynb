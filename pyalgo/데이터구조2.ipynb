{
 "cells": [
  {
   "cell_type": "code",
   "execution_count": null,
   "metadata": {},
   "outputs": [],
   "source": [
    "# 단어 빈도수 세기\n",
    "\n",
    "def solution(data):\n",
    "    words = data.lower().split()\n",
    "    frequency = {}\n",
    "    for word in words:\n",
    "        cleaned_word = \"\".join(char for char in word if char.isalpha())\n",
    "        if cleaned_word:\n",
    "            frequency[cleaned_word] = frequency.get(cleaned_word, 0) + 1\n",
    "    return frequency\n"
   ]
  },
  {
   "cell_type": "code",
   "execution_count": null,
   "metadata": {},
   "outputs": [],
   "source": [
    "# 단어 빈도수 세기 다른 풀이\n",
    "\n",
    "import re\n",
    "def solution(data):\n",
    "    data = data.lower()\n",
    "    words = sorted(list(set(re.findall(r\"\\w+\", data))))\n",
    "    return {i:data.count(i) for i in words}"
   ]
  },
  {
   "cell_type": "code",
   "execution_count": null,
   "metadata": {},
   "outputs": [],
   "source": [
    "# 두 큐의 합 같게 만들기\n",
    "\n",
    "from collections import deque\n",
    "def solution(data):\n",
    "    queue1, queue2 = deque(data['queue1']), deque(data['queue2'])\n",
    "    sum1, sum2 = sum(queue1), sum(queue2)\n",
    "    len1, len2 = len(queue1), len(queue2)\n",
    "    target = (sum1 + sum2) // 2\n",
    "    cnt = 0\n",
    "    for _ in range(len1+len2):\n",
    "        cnt += 1\n",
    "        if sum1 > target:\n",
    "            moved = queue1.popleft()\n",
    "            queue2.append(moved)\n",
    "            sum1 -= moved\n",
    "            sum2 += moved\n",
    "        elif sum1 < target:\n",
    "            moved = queue2.popleft()\n",
    "            queue1.append(moved)\n",
    "            sum1 += moved\n",
    "            sum2 -= moved\n",
    "        if sum1 == target:\n",
    "            return cnt\n",
    "    return -1"
   ]
  },
  {
   "cell_type": "code",
   "execution_count": null,
   "metadata": {},
   "outputs": [],
   "source": [
    "# 순환 큐에서의 데이터 처리\n",
    "\n",
    "def solution(data):\n",
    "    size = data[\"size\"]\n",
    "    commands = data[\"commands\"]\n",
    "    queue = deque(maxlen=size)\n",
    "    result = []\n",
    "\n",
    "    for command in commands:\n",
    "        if command.startswith(\"insert\"):\n",
    "            _, element = command.split()\n",
    "            if len(queue) == queue.maxlen:\n",
    "                queue.popleft()\n",
    "            queue.append(element)\n",
    "            result.append(None)\n",
    "        elif command == \"delete\":\n",
    "            if queue:\n",
    "                queue.popleft()\n",
    "            result.append(None)\n",
    "        elif command.startswith(\"search\"):\n",
    "            _, element = command.split()\n",
    "            result.append(element in queue)\n",
    "\n",
    "    return result"
   ]
  }
 ],
 "metadata": {
  "language_info": {
   "name": "python"
  }
 },
 "nbformat": 4,
 "nbformat_minor": 2
}
