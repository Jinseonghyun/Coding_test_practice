{
 "cells": [
  {
   "cell_type": "code",
   "execution_count": null,
   "metadata": {},
   "outputs": [],
   "source": [
    "# 가장 가까운 합 찾기\n",
    "\n",
    "def solution(data):\n",
    "    data_list, target = data\n",
    "    l = []\n",
    "\n",
    "    # i, j 가 같은 숫자가 아닌 경우 target값에 i,j 값을 뺀 절대값을 리스트화\n",
    "    for i in data_list:\n",
    "        for j in data_list:\n",
    "            if i != j:\n",
    "                l.append(abs(target - (i+j)))\n",
    "\n",
    "    # 만든 리스트에서 제일 작은 값이 target과 가까운 숫자이므로 i, j의 합을 찾아줌\n",
    "    for i in data_list:\n",
    "        for j in data_list:\n",
    "            if abs(target - (i+j)) == min(l):\n",
    "                return i + j"
   ]
  },
  {
   "cell_type": "code",
   "execution_count": null,
   "metadata": {},
   "outputs": [],
   "source": [
    "# 가장 가까운 합 찾기 다른풀이\n",
    "\n",
    "def solution(data):\n",
    "    data_list, target = data\n",
    "\n",
    "    close_num = 0\n",
    "\n",
    "    # 두수의 합을 찾기 위해 중첩 for문 사용\n",
    "    for i in range(0, len(data_list)):      # 0 부터 리스트 길이만큼\n",
    "        for j in range(i, len(data_list)):  # i 부터 리스트 길이만큼 2 + 3 했으면 3 + 2 제외 위함\n",
    "            if i == j:      # 같은 수 끼리 더하는 경우 제외\n",
    "                continue\n",
    "            else:\n",
    "                # 두수의 합에서 target 숫자를 빼고 나온수 와 임의의 가까운 수에서 target 숫자를 뺀수를 비교\n",
    "                # 기존 수보다 작으면 가까운 수 변경\n",
    "                if abs(data_list[i] + data_list[j] - target) < abs(close_num - target):\n",
    "                    close_num = data_list[i] + data_list[j]\n",
    "    return close_num"
   ]
  },
  {
   "cell_type": "code",
   "execution_count": null,
   "metadata": {},
   "outputs": [],
   "source": [
    "# 단일 숫자 찾기\n",
    "\n",
    "def solution(arr):\n",
    "    result = 0\n",
    "    for num in arr:\n",
    "        result ^= num\n",
    "    return result"
   ]
  },
  {
   "cell_type": "code",
   "execution_count": null,
   "metadata": {},
   "outputs": [],
   "source": [
    "# 단일 숫자 찾기 다른풀이\n",
    "\n",
    "def solution(data):\n",
    "    '''\n",
    "    data에 중복되는 숫자를 set을 통해 제거\n",
    "    set_list에 있는 숫자와 data에 있는 숫자가 겹치는 횟수를 리스트화\n",
    "    리스트에서 제일 작은 숫자와 일치하는 횟수를 지닌 숫자를 출력\n",
    "    '''\n",
    "    set_list = list(set(data))\n",
    "    l = []\n",
    "    for i in set_list:\n",
    "        num = data.count(i)\n",
    "        l.append(num)\n",
    "\n",
    "    for i in set_list:\n",
    "        if min(l) == data.count(i):\n",
    "             return i"
   ]
  },
  {
   "cell_type": "code",
   "execution_count": null,
   "metadata": {},
   "outputs": [],
   "source": [
    "# 단일 숫자 찾기 다른 풀이\n",
    "\n",
    "def solution(data):\n",
    "    # 딕셔너리를 사용하여 각 숫자의 등장 횟수를 기록\n",
    "    count_dict = {}\n",
    "    for num in data:\n",
    "        if num in count_dict:\n",
    "            count_dict[num] += 1\n",
    "        else:\n",
    "            count_dict[num] = 1\n",
    "\n",
    "    # 등장 횟수가 1인 숫자를 찾아 반환\n",
    "    for num, count in count_dict.items():\n",
    "        if count == 1:\n",
    "            return num"
   ]
  }
 ],
 "metadata": {
  "language_info": {
   "name": "python"
  }
 },
 "nbformat": 4,
 "nbformat_minor": 2
}
