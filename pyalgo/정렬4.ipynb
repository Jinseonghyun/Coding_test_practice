{
 "cells": [
  {
   "cell_type": "code",
   "execution_count": 6,
   "metadata": {},
   "outputs": [
    {
     "data": {
      "text/plain": [
       "dict_values([['2024-01-01', '2024-01-08', '2024-01-15', '2024-01-22'], ['2024-01-02', '2024-01-09', '2024-01-16'], ['2024-01-03', '2024-01-10'], ['2024-01-04', '2024-01-11', '2024-01-18'], ['2024-01-05', '2024-01-12', '2024-01-19', '2024-01-26']])"
      ]
     },
     "execution_count": 6,
     "metadata": {},
     "output_type": "execute_result"
    }
   ],
   "source": [
    "# 라이캣 CEO의 최근 일정 3개\n",
    "\n",
    "data = {'월': ['2024-01-01', '2024-01-08', '2024-01-15', '2024-01-22'], '화': ['2024-01-02', '2024-01-09', '2024-01-16'], '수': ['2024-01-03', '2024-01-10'], '목': ['2024-01-04', '2024-01-11', '2024-01-18'], '금': ['2024-01-05', '2024-01-12', '2024-01-19', '2024-01-26']}\n",
    "\n",
    "data.values()"
   ]
  },
  {
   "cell_type": "code",
   "execution_count": 11,
   "metadata": {},
   "outputs": [
    {
     "name": "stdout",
     "output_type": "stream",
     "text": [
      "['2024-01-01', '2024-01-08', '2024-01-15', '2024-01-22']\n",
      "['2024-01-02', '2024-01-09', '2024-01-16']\n",
      "['2024-01-03', '2024-01-10']\n",
      "['2024-01-04', '2024-01-11', '2024-01-18']\n",
      "['2024-01-05', '2024-01-12', '2024-01-19', '2024-01-26']\n"
     ]
    }
   ],
   "source": [
    "for data in dates:\n",
    "    "
   ]
  },
  {
   "cell_type": "code",
   "execution_count": 29,
   "metadata": {},
   "outputs": [
    {
     "data": {
      "text/plain": [
       "['24-01-26 금', '24-01-22 월', '24-01-19 금']"
      ]
     },
     "execution_count": 29,
     "metadata": {},
     "output_type": "execute_result"
    }
   ],
   "source": [
    "data = {'월': ['2024-01-01', '2024-01-08', '2024-01-15', '2024-01-22'], '화': ['2024-01-02', '2024-01-09', '2024-01-16'], '수': ['2024-01-03', '2024-01-10'], '목': ['2024-01-04', '2024-01-11', '2024-01-18'], '금': ['2024-01-05', '2024-01-12', '2024-01-19', '2024-01-26']}\n",
    "\n",
    "all_schedules = []\n",
    "\n",
    "for day, dates in data.items():\n",
    "    for date in dates:\n",
    "        converted_date = f'{date[2:]} {day}'\n",
    "        all_schedules.append(converted_date)\n",
    "all_schedules.sort(reverse=True)\n",
    "all_schedules[:3]"
   ]
  },
  {
   "cell_type": "code",
   "execution_count": 48,
   "metadata": {},
   "outputs": [
    {
     "data": {
      "text/plain": [
       "['24-01-06:21', '24-01-04:20', '24-01-05:19']"
      ]
     },
     "execution_count": 48,
     "metadata": {},
     "output_type": "execute_result"
    }
   ],
   "source": [
    "# 주간 최고 온도 기록 분석\n",
    "\n",
    "data = {'2024-01-01': 15, '2024-01-02': 17, '2024-01-03': 16, '2024-01-04': 20, '2024-01-05': 19, '2024-01-06': 21, '2024-01-07': 18}\n",
    "\n",
    "temp_list = [(temp, date) for date, temp in data.items()]\n",
    "temp_list.sort(key=lambda x: (-x[0], x[1]))\n",
    "top_three = temp_list[:3]\n",
    "[f'{date[2:]}:{temp}' for  temp, date in top_three]"
   ]
  },
  {
   "cell_type": "code",
   "execution_count": null,
   "metadata": {},
   "outputs": [],
   "source": []
  }
 ],
 "metadata": {
  "kernelspec": {
   "display_name": "Python 3",
   "language": "python",
   "name": "python3"
  },
  "language_info": {
   "codemirror_mode": {
    "name": "ipython",
    "version": 3
   },
   "file_extension": ".py",
   "mimetype": "text/x-python",
   "name": "python",
   "nbconvert_exporter": "python",
   "pygments_lexer": "ipython3",
   "version": "3.12.1"
  }
 },
 "nbformat": 4,
 "nbformat_minor": 2
}
