{
 "cells": [
  {
   "cell_type": "code",
   "execution_count": null,
   "metadata": {},
   "outputs": [],
   "source": [
    "# 이진 트리의 최대 깊이 찾기\n",
    "\n",
    "def solution(data):\n",
    "    def find_max_depth(tree, index=0):\n",
    "        if index >= len(tree) or tree[index] is None:\n",
    "            return 0\n",
    "        left_depth = find_max_depth(tree, 2 * index + 1)\n",
    "        right_depth = find_max_depth(tree, 2 * index + 2)\n",
    "        return max(left_depth, right_depth) + 1\n",
    "\n",
    "    return find_max_depth(data)"
   ]
  },
  {
   "cell_type": "code",
   "execution_count": null,
   "metadata": {},
   "outputs": [],
   "source": [
    "# 이진 트리의 최대 깊이 찾기 다른 풀이\n",
    "\n",
    "def solution(data):\n",
    "    return len(bin(len(data))[2:])"
   ]
  },
  {
   "cell_type": "code",
   "execution_count": null,
   "metadata": {},
   "outputs": [],
   "source": [
    "# # 이진 트리에서의 경로 합 계산 \n",
    "\n",
    "def solution(data):\n",
    "    tree = data[\"tree\"]\n",
    "    if not tree:\n",
    "        return []\n",
    "\n",
    "    def find_sums(node, current_sum):\n",
    "        if not node:\n",
    "            return []\n",
    "        if not node.get(\"left\") and not node.get(\"right\"):\n",
    "            return [current_sum + node[\"value\"]]\n",
    "        return find_sums(node.get(\"left\"), current_sum + node[\"value\"]) + find_sums(node.get(\"right\"), current_sum + node[\"value\"])\n",
    "\n",
    "    return find_sums(tree, 0)"
   ]
  },
  {
   "cell_type": "code",
   "execution_count": null,
   "metadata": {},
   "outputs": [],
   "source": [
    "# 그래프의 최단 경로 찾기\n",
    "\n",
    "from collections import deque\n",
    "\n",
    "\n",
    "def solution(data):\n",
    "    def bfs_shortest_path(graph, start, end):\n",
    "        visited = set()\n",
    "        queue = deque([(start, 0)])  # (current node, distance)\n",
    "\n",
    "        while queue:\n",
    "            current, distance = queue.popleft()\n",
    "            if current == end:\n",
    "                return distance\n",
    "\n",
    "            if current not in visited:\n",
    "                visited.add(current)\n",
    "                for neighbor in graph.get(current, []):\n",
    "                    queue.append((neighbor, distance + 1))\n",
    "\n",
    "        return -1  # Path not found\n",
    "\n",
    "    graph = data[\"graph\"]\n",
    "    start = data[\"start\"]\n",
    "    end = data[\"end\"]\n",
    "    return bfs_shortest_path(graph, start, end)"
   ]
  },
  {
   "cell_type": "code",
   "execution_count": null,
   "metadata": {},
   "outputs": [],
   "source": [
    "# 그래프 사이클 감지\n",
    "\n",
    "def solution(data):\n",
    "    def has_cycle(graph):\n",
    "        visited = set()\n",
    "        rec_stack = set()\n",
    "\n",
    "        for node in graph:\n",
    "            if node not in visited:\n",
    "                if dfs(graph, node, visited, rec_stack):\n",
    "                    return True\n",
    "\n",
    "        return False\n",
    "\n",
    "    def dfs(graph, current, visited, rec_stack):\n",
    "        if current not in visited:\n",
    "            visited.add(current)\n",
    "            rec_stack.add(current)\n",
    "\n",
    "            for neighbor in graph.get(current, []):\n",
    "                if neighbor not in visited:\n",
    "                    if dfs(graph, neighbor, visited, rec_stack):\n",
    "                        return True\n",
    "                elif neighbor in rec_stack:\n",
    "                    return True\n",
    "\n",
    "        rec_stack.remove(current)\n",
    "        return False\n",
    "\n",
    "    return has_cycle(data[\"graph\"])"
   ]
  },
  {
   "cell_type": "code",
   "execution_count": null,
   "metadata": {},
   "outputs": [],
   "source": []
  }
 ],
 "metadata": {
  "language_info": {
   "name": "python"
  }
 },
 "nbformat": 4,
 "nbformat_minor": 2
}
