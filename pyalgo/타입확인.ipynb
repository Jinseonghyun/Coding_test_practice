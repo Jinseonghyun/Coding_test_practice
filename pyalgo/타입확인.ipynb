{
 "cells": [
  {
   "cell_type": "code",
   "execution_count": 3,
   "metadata": {},
   "outputs": [
    {
     "data": {
      "text/plain": [
       "['int', 'float', 'str', 'list', 'tuple', 'dict']"
      ]
     },
     "execution_count": 3,
     "metadata": {},
     "output_type": "execute_result"
    }
   ],
   "source": [
    "# 데이터 타입 확인\n",
    "\n",
    "data = [123, 4.56, 'hello', [1, 2, 3], (4, 5), {'a': 1, 'b': 2}]\t\n",
    "[type(i).__name__ for i in data]"
   ]
  },
  {
   "cell_type": "code",
   "execution_count": 11,
   "metadata": {},
   "outputs": [
    {
     "data": {
      "text/plain": [
       "False"
      ]
     },
     "execution_count": 11,
     "metadata": {},
     "output_type": "execute_result"
    }
   ],
   "source": [
    "# 타입 확인\n",
    "\n",
    "def solution(data):\n",
    "    return all([type(instance).__name__ == class_ for class_, instance in data])\n",
    "\n",
    "solution( [('str', 100), ('dict', {'a': 1}), ('tuple', (1, 2, 3))]\n",
    ")"
   ]
  },
  {
   "cell_type": "code",
   "execution_count": 16,
   "metadata": {},
   "outputs": [
    {
     "data": {
      "text/plain": [
       "False"
      ]
     },
     "execution_count": 16,
     "metadata": {},
     "output_type": "execute_result"
    }
   ],
   "source": [
    "# 숫자 배열 탐색\n",
    "\n",
    "def solution(data):\n",
    "    arr, target = data\n",
    "    return arr.index(target) if target in arr else False\n",
    "\n",
    "solution(([2, 4, 6, 8, 10], 7))"
   ]
  },
  {
   "cell_type": "code",
   "execution_count": 19,
   "metadata": {},
   "outputs": [
    {
     "data": {
      "text/plain": [
       "1"
      ]
     },
     "execution_count": 19,
     "metadata": {},
     "output_type": "execute_result"
    }
   ],
   "source": [
    "# 문자열 탐색\n",
    "\n",
    "def solution(data):\n",
    "    s, target = data\n",
    "    return s.index(target) if target in s else False\n",
    "\n",
    "solution(('hello', 'e'))"
   ]
  }
 ],
 "metadata": {
  "kernelspec": {
   "display_name": "Python 3",
   "language": "python",
   "name": "python3"
  },
  "language_info": {
   "codemirror_mode": {
    "name": "ipython",
    "version": 3
   },
   "file_extension": ".py",
   "mimetype": "text/x-python",
   "name": "python",
   "nbconvert_exporter": "python",
   "pygments_lexer": "ipython3",
   "version": "3.12.1"
  }
 },
 "nbformat": 4,
 "nbformat_minor": 2
}
