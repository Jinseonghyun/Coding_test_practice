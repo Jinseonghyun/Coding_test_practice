{
 "cells": [
  {
   "cell_type": "code",
   "execution_count": 3,
   "metadata": {},
   "outputs": [
    {
     "name": "stdout",
     "output_type": "stream",
     "text": [
      "a\n",
      "a\n",
      "a\n",
      "a\n",
      "a3b\n",
      "a3b\n",
      "a3b2c\n",
      "a3b2c\n",
      "a3b2c\n",
      "a3b2c\n",
      "a3b2c\n",
      "a3b2c\n"
     ]
    },
    {
     "data": {
      "text/plain": [
       "'a3b2c6a1'"
      ]
     },
     "execution_count": 3,
     "metadata": {},
     "output_type": "execute_result"
    }
   ],
   "source": [
    "# 문자열 압축하기\n",
    "\n",
    "# 문자열을 입력받아서, 같은 문자가 연속적으로 반복되는 경우에 그 반복 횟수를 표시하여 문자열을 압축하기.\n",
    "\n",
    "# 입력 예시: aaabbcccccca\n",
    "\n",
    "# 출력 예시: a3b2c6a1\n",
    "\n",
    "s = 'aaabbcccccca'\n",
    "\n",
    "result = s[0]\n",
    "count = 0\n",
    "\n",
    "for string in s:\n",
    "    print(result)\n",
    "    if string == result[-1]:\n",
    "        count += 1\n",
    "    else:\n",
    "        result += str(count) + string\n",
    "        count = 1\n",
    "        \n",
    "result += str(count)\n",
    "result"
   ]
  },
  {
   "cell_type": "code",
   "execution_count": 4,
   "metadata": {},
   "outputs": [
    {
     "name": "stderr",
     "output_type": "stream",
     "text": [
      "<>:12: SyntaxWarning: invalid escape sequence '\\w'\n",
      "<>:12: SyntaxWarning: invalid escape sequence '\\w'\n",
      "C:\\Users\\Jin\\AppData\\Local\\Temp\\ipykernel_7372\\1425317229.py:12: SyntaxWarning: invalid escape sequence '\\w'\n",
      "  p = re.compile('(\\w)(\\\\1*)')\n"
     ]
    },
    {
     "data": {
      "text/plain": [
       "[('a', 'aa'), ('b', 'b'), ('c', 'ccccc'), ('a', '')]"
      ]
     },
     "execution_count": 4,
     "metadata": {},
     "output_type": "execute_result"
    }
   ],
   "source": [
    "# 문자열 압축하기 다른풀이\n",
    "\n",
    "# 문자열을 입력받아서, 같은 문자가 연속적으로 반복되는 경우에 그 반복 횟수를 표시하여 문자열을 압축하기.\n",
    "\n",
    "# 입력 예시: aaabbcccccca\n",
    "\n",
    "# 출력 예시: a3b2c6a1\n",
    "\n",
    "import re\n",
    "\n",
    "s = 'aaabbcccccca'\n",
    "p = re.compile('(\\w)(\\\\1*)')\n",
    "p.findall(s)"
   ]
  },
  {
   "cell_type": "code",
   "execution_count": 5,
   "metadata": {},
   "outputs": [
    {
     "data": {
      "text/plain": [
       "[-1, -2, 1, 3, 2]"
      ]
     },
     "execution_count": 5,
     "metadata": {},
     "output_type": "execute_result"
    }
   ],
   "source": [
    "# Special Sort\n",
    "\n",
    "# 구글 전화면접 문제\n",
    "\n",
    "# n개의 정수를 가진 배열이 있다. 이 배열은 양의정수와 음의 정수를 모두 가지고 있다. 이제 당신은 이 배열을 좀 특별한 방법으로 정렬해야 한다.\n",
    "\n",
    "# 정렬이 되고 난 후, 음의 정수는 앞쪽에 양의정수는 뒷쪽에 있어야 한다. 또한 양의정수와 음의정수의 순서에는 변함이 없어야 한다.\n",
    "\n",
    "# 예. -1 1 3 -2 2 ans: -1 -2 1 3 2.\n",
    "\n",
    "def solution(value):\n",
    "    return [i for i in value if i < 0] + [i for i in value if i >= 0]\n",
    "\n",
    "solution([-1, 1, 3, -2, 2])"
   ]
  }
 ],
 "metadata": {
  "kernelspec": {
   "display_name": "venv",
   "language": "python",
   "name": "python3"
  },
  "language_info": {
   "codemirror_mode": {
    "name": "ipython",
    "version": 3
   },
   "file_extension": ".py",
   "mimetype": "text/x-python",
   "name": "python",
   "nbconvert_exporter": "python",
   "pygments_lexer": "ipython3",
   "version": "3.12.1"
  }
 },
 "nbformat": 4,
 "nbformat_minor": 2
}
