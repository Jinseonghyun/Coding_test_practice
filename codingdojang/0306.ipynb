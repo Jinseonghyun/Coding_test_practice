{
 "cells": [
  {
   "cell_type": "code",
   "execution_count": 1,
   "metadata": {},
   "outputs": [
    {
     "data": {
      "text/plain": [
       "4000"
      ]
     },
     "execution_count": 1,
     "metadata": {},
     "output_type": "execute_result"
    }
   ],
   "source": [
    "# 구글 입사문제 중에서\n",
    "\n",
    "# 1부터 10,000까지 8이라는 숫자가 총 몇번 나오는가?\n",
    "\n",
    "# 8이 포함되어 있는 숫자의 갯수를 카운팅 하는 것이 아니라 8이라는 숫자를 모두 카운팅 해야 한다.\n",
    "# (※ 예를들어 8808은 3, 8888은 4로 카운팅 해야 함)\n",
    "\n",
    "str(list(range(10000))).count('8')\n",
    "\n",
    "# 원리 \n",
    "# '80, 81, 82, 83'.count('8')\n",
    "# 정답 4"
   ]
  },
  {
   "cell_type": "code",
   "execution_count": 2,
   "metadata": {},
   "outputs": [
    {
     "data": {
      "text/plain": [
       "(3, 4)"
      ]
     },
     "execution_count": 2,
     "metadata": {},
     "output_type": "execute_result"
    }
   ],
   "source": [
    "# 다음 입사문제 중에서\n",
    "\n",
    "# 1차원의 점들이 주어졌을 때, 그 중 가장 거리가 짧은 것의 쌍을 출력하는 함수를 작성하시오. (단 점들의 배열은 모두 정렬되어있다고 가정한다.)\n",
    "# 예를들어 S={1, 3, 4, 8, 13, 17, 20} 이 주어졌다면, 결과값은 (3, 4)가 될 것이다.\n",
    "\n",
    "s = [1, 3, 4, 8, 13, 17, 20]\n",
    "index = 0\n",
    "minim = float('inf')\n",
    "for i in range(1, len(s)):\n",
    "    if (s[i] - s[i - 1]) < minim:\n",
    "        index = i\n",
    "        minim = s[i] - s[i - 1]\n",
    "\n",
    "s[index-1], s[index]"
   ]
  },
  {
   "cell_type": "code",
   "execution_count": 3,
   "metadata": {},
   "outputs": [
    {
     "data": {
      "text/plain": [
       "(3, 4)"
      ]
     },
     "execution_count": 3,
     "metadata": {},
     "output_type": "execute_result"
    }
   ],
   "source": [
    "# 다음 입사문제 중에서 다른풀이\n",
    "\n",
    "# 1차원의 점들이 주어졌을 때, 그 중 가장 거리가 짧은 것의 쌍을 출력하는 함수를 작성하시오. (단 점들의 배열은 모두 정렬되어있다고 가정한다.)\n",
    "# 예를들어 S={1, 3, 4, 8, 13, 17, 20} 이 주어졌다면, 결과값은 (3, 4)가 될 것이다.\n",
    "\n",
    "s = [1, 3, 4, 8, 13, 17, 20]\n",
    "ss = s[1:]\n",
    "sorted(zip(s, ss), key=lambda x:x[1] - x[0])[0]"
   ]
  },
  {
   "cell_type": "code",
   "execution_count": null,
   "metadata": {},
   "outputs": [],
   "source": []
  }
 ],
 "metadata": {
  "kernelspec": {
   "display_name": "venv",
   "language": "python",
   "name": "python3"
  },
  "language_info": {
   "codemirror_mode": {
    "name": "ipython",
    "version": 3
   },
   "file_extension": ".py",
   "mimetype": "text/x-python",
   "name": "python",
   "nbconvert_exporter": "python",
   "pygments_lexer": "ipython3",
   "version": "3.12.1"
  }
 },
 "nbformat": 4,
 "nbformat_minor": 2
}
