{
 "cells": [
  {
   "cell_type": "code",
   "execution_count": 9,
   "metadata": {},
   "outputs": [
    {
     "data": {
      "text/plain": [
       "[70, 65, 40, 30, 15]"
      ]
     },
     "execution_count": 9,
     "metadata": {},
     "output_type": "execute_result"
    }
   ],
   "source": [
    "# 가성비 최대화\n",
    "\n",
    "# 기계를 구입하려 하는데 이 기계는 추가 부품을 장착할 수 있다. 추가 부품은 종류당 하나씩만 장착 가능하고, 모든 추가 부품은 동일한 가격을 가진다.\n",
    "\n",
    "# 원래 기계의 가격과 성능, 추가 부품의 가격과 각 부품의 성능이 주어졌을 때, 추가 부품을 장착하여 얻을 수 있는 최대 가성비를 정수 부분까지 구하시오(가격 및 성능은 상대적인 값으로 수치화되어 주어진다).\n",
    "\n",
    "# e.g.)\n",
    "\n",
    "# 원래 기계의 가격 : 10\n",
    "\n",
    "# 원래 기계의 성능 : 150\n",
    "\n",
    "# 추가 부품의 가격 : 3\n",
    "\n",
    "# 추가 부품의 성능 : 각각 30, 70, 15, 40, 65\n",
    "\n",
    "# 추가 부품을 장착하여 얻을 수 있는 최대 가성비 : 17.81... → 17\n",
    "\n",
    "# (성능이 70과 65인 부품을 장착하면 됨)\n",
    "\n",
    "# 하나씩 더하면서 가격을 더한걸 나누어 보면 가성비 좋은 70 과 65까지만 성능이 최대이다.\n",
    "\n",
    "가격 = 10\n",
    "\n",
    "성능 = 150\n",
    "\n",
    "부품가격 = 3\n",
    "\n",
    "부품성능  = [30, 70, 15, 40, 65]\n",
    "\n",
    "부품성능.sort(reverse=True)\n",
    "부품성능"
   ]
  },
  {
   "cell_type": "code",
   "execution_count": 11,
   "metadata": {},
   "outputs": [
    {
     "name": "stdout",
     "output_type": "stream",
     "text": [
      "17\n"
     ]
    }
   ],
   "source": [
    "# 가성비 최대화 정답\n",
    "for i in 부품성능:\n",
    "    if 성능 / 가격 > (성능 + i ) / (가격 + 부품가격):\n",
    "        break\n",
    "    else:\n",
    "        성능 += i\n",
    "        가격 += 부품가격\n",
    "\n",
    "print(성능 // 가격)"
   ]
  },
  {
   "cell_type": "code",
   "execution_count": 19,
   "metadata": {},
   "outputs": [
    {
     "ename": "IndexError",
     "evalue": "list index out of range",
     "output_type": "error",
     "traceback": [
      "\u001b[1;31m---------------------------------------------------------------------------\u001b[0m",
      "\u001b[1;31mIndexError\u001b[0m                                Traceback (most recent call last)",
      "Cell \u001b[1;32mIn[19], line 26\u001b[0m\n\u001b[0;32m     24\u001b[0m \u001b[38;5;28;01mfor\u001b[39;00m log \u001b[38;5;129;01min\u001b[39;00m logs:\n\u001b[0;32m     25\u001b[0m     l \u001b[38;5;241m=\u001b[39m [\u001b[38;5;124m'\u001b[39m\u001b[38;5;124m'\u001b[39m\u001b[38;5;241m.\u001b[39mjoin(time\u001b[38;5;241m.\u001b[39msplit(\u001b[38;5;124m'\u001b[39m\u001b[38;5;124m:\u001b[39m\u001b[38;5;124m'\u001b[39m)) \u001b[38;5;28;01mfor\u001b[39;00m time \u001b[38;5;129;01min\u001b[39;00m log\u001b[38;5;241m.\u001b[39msplit()]\n\u001b[1;32m---> 26\u001b[0m     \u001b[38;5;28;01mif\u001b[39;00m \u001b[43ml\u001b[49m\u001b[43m[\u001b[49m\u001b[38;5;241;43m0\u001b[39;49m\u001b[43m]\u001b[49m \u001b[38;5;241m<\u001b[39m\u001b[38;5;241m=\u001b[39m t \u001b[38;5;241m<\u001b[39m\u001b[38;5;241m=\u001b[39m l[\u001b[38;5;241m1\u001b[39m]:\n\u001b[0;32m     27\u001b[0m         count \u001b[38;5;241m+\u001b[39m\u001b[38;5;241m=\u001b[39m \u001b[38;5;241m1\u001b[39m\n\u001b[0;32m     29\u001b[0m count\n",
      "\u001b[1;31mIndexError\u001b[0m: list index out of range"
     ]
    }
   ],
   "source": [
    "# 그 시간 사무실에 몇 명이 있었나?\n",
    "\n",
    "# 아마존 면접문제\n",
    "\n",
    "# A사무실에는 특정일자의 출퇴근 시간이 기록된 거대한 로그파일이 있다고 한다.\n",
    "\n",
    "# 파일의 형식은 다음과 같다. (한 라인에서 앞부분은 출근시간(HH:MM:SS), 뒷부분은 퇴근시간이다)\n",
    "\n",
    "# 09:12:23 11:14:35\n",
    "# 10:34:01 13:23:40\n",
    "# 10:34:31 11:20:10\n",
    "# 특정시간을 입력(예:11:05:20)으로 주었을 때 그 시간에 총 몇 명이 사무실에 있었는지 알려주는 함수를 작성하시오.\n",
    "\n",
    "t = ''.join(input().split(':'))\n",
    "count = 0\n",
    "\n",
    "log = '''\n",
    "09:12:23 11:14:35\n",
    "10:34:01 13:23:40\n",
    "10:34:31 11:20:10\n",
    "'''\n",
    "logs = log.split('\\n')\n",
    "\n",
    "for log in logs:\n",
    "    l = [''.join(time.split(':')) for time in log.split()]\n",
    "    if l[0] <= t <= l[1]:\n",
    "        count += 1\n",
    "        \n",
    "count"
   ]
  },
  {
   "cell_type": "code",
   "execution_count": 20,
   "metadata": {},
   "outputs": [
    {
     "name": "stdout",
     "output_type": "stream",
     "text": [
      "[-1, -1, -1, -1, -1, -1, -1, -1, -1, -1, -1, -1, -1, -1, -1, -1, -1, -1, -1, -1, -1, -1, -1, -1, -1, -1, -1, -1, -1, -1, -1, -1, -1, -1, -1, -1, -1, -1, -1, -1, -1, -1, -1, -1, -1, -1, -1, -1, -1, -1, -1, -1, -1, -1, -1, -1, -1, -1, -1, -1, -1, -1, -1, -1, -1, -1, -1, -1, -1, -1, -1, -1, -1, -1, -1, -1, -1, -1, -1, -1, -1, -1, -1, -1, -1, -1, -1, -1, -1, -1, -1, -1, -1, -1, -1, -1, -1, -1, -1, -1, -1, -1, -1, -1, -1, -1, -1, -1, -1, -1, -1, -1, -1, -1, -1, -1, -1, -1, -1, -1]\n"
     ]
    }
   ],
   "source": [
    "# 120번째 죄수\n",
    "\n",
    "# 감옥에 120명의 죄수가 있다. 간수는 복도를 120번 동안 다음 조건에 지나간다.\n",
    "\n",
    "# 처음에 문은 모두 닫혀 있다.\n",
    "# N번째 지나갈 때에는 N의 배수인 문들이 열려 있으면 닫고, 닫혀 있으면 연다.\n",
    "# 마지막에 문이 열려 있으면 그 방의 죄수는 석방이다.\n",
    "# 과연 몇 명의 죄수가 석방될까?\n",
    "\n",
    "room = [-1] * 120\n",
    "print(room)"
   ]
  },
  {
   "cell_type": "code",
   "execution_count": 21,
   "metadata": {},
   "outputs": [
    {
     "data": {
      "text/plain": [
       "10"
      ]
     },
     "execution_count": 21,
     "metadata": {},
     "output_type": "execute_result"
    }
   ],
   "source": [
    "# 120번째 죄수 답\n",
    "\n",
    "for i in range(1, 121):\n",
    "    for n  in range(1, 121):\n",
    "        if n % i == 0:\n",
    "            room[n-1] *= -1\n",
    "\n",
    "room.count(1)"
   ]
  }
 ],
 "metadata": {
  "kernelspec": {
   "display_name": "venv",
   "language": "python",
   "name": "python3"
  },
  "language_info": {
   "codemirror_mode": {
    "name": "ipython",
    "version": 3
   },
   "file_extension": ".py",
   "mimetype": "text/x-python",
   "name": "python",
   "nbconvert_exporter": "python",
   "pygments_lexer": "ipython3",
   "version": "3.12.1"
  }
 },
 "nbformat": 4,
 "nbformat_minor": 2
}
