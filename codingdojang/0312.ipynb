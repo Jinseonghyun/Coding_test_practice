{
 "cells": [
  {
   "cell_type": "code",
   "execution_count": 5,
   "metadata": {},
   "outputs": [
    {
     "data": {
      "text/plain": [
       "859963392"
      ]
     },
     "execution_count": 5,
     "metadata": {},
     "output_type": "execute_result"
    }
   ],
   "source": [
    "# Ugly Numbers\n",
    "\n",
    "# 심술쟁이 수는 2,3,5의 곱으로 만들 수 있는 수이다. 다음과 같은 순서의 수가 11개의 심술쟁이 수이다.\n",
    "\n",
    "# 1,2,3,4,5,6,8,9,10,12,15,....\n",
    "\n",
    "# 처음 수는 1로 시작하도록 한다. 입력은 받지 않고, <number> 에 1500번째 심술쟁이 수가 출력되게 한다.\n",
    "\n",
    "# Sample Output\n",
    "\n",
    "# The 1500'th ugly number is <number>.\n",
    "# 답\n",
    "\n",
    "# 859963392\n",
    "# (1550번째는 1093500000, 십만번째는 290142196707511001929482240000000000000)\n",
    "\n",
    "def uglyNumbers(n):\n",
    "    ugly_number_list = [1]\n",
    "    for i in range(n-1):\n",
    "        last = ugly_number_list[-1]\n",
    "\n",
    "        temp = []\n",
    "        for i in ugly_number_list:\n",
    "            for j in [i*2, i*3, i*5]:\n",
    "                if j > last:\n",
    "                    temp.append(j)\n",
    "\n",
    "        ugly_number_list.append(min(temp))\n",
    "    return ugly_number_list[-1]\n",
    "\n",
    "\n",
    "uglyNumbers(1500)"
   ]
  },
  {
   "cell_type": "code",
   "execution_count": 6,
   "metadata": {},
   "outputs": [],
   "source": [
    "# Ugly Numbers 다른 풀이\n",
    "\n",
    "def ugly(n):\n",
    "    re = 1\n",
    "    n2, n3, n5 = [], [], []\n",
    "    for i in range(n-1):\n",
    "        n2 += [re*2]\n",
    "        n3 += [re*3]\n",
    "        n5 += [re*5]\n",
    "        re = min(n2[0], n3[0], n5[0])\n",
    "        if re == n2[0]:\n",
    "            del n2[0]\n",
    "        if re == n3[0]:\n",
    "            del n3[0]\n",
    "        if re == n5[0]:\n",
    "            del n5[0]\n",
    "    return re"
   ]
  },
  {
   "cell_type": "code",
   "execution_count": 8,
   "metadata": {},
   "outputs": [
    {
     "data": {
      "text/plain": [
       "3"
      ]
     },
     "execution_count": 8,
     "metadata": {},
     "output_type": "execute_result"
    }
   ],
   "source": [
    "# Two Printers\n",
    "\n",
    "# John과 Mary는 \"J&M 출판사\"를 설립하고 낡은 프린터 2대를 구입하였다.\n",
    "\n",
    "# 그들이 첫번째로 성사시킨 거래는 N개의 페이지로 구성된 문서를 출력하는 일이었다.\n",
    "\n",
    "# 그들이 구입한 두 대의 프린터는 각기 다른 속도록 문서를 출력하고 있다고 한다. 하나는 한 페이지를 출력하는 데 X초가 걸리고 다른 하나는 Y초가 소요된다고 한다.\n",
    "\n",
    "# John과 Mary는 두 대의 프린터를 이용하여 전체 문서를 출력하는 데 드는 최소한의 시간이 알고 싶어졌다.\n",
    "\n",
    "# 입력과 출력\n",
    "\n",
    "# 입력데이터의 첫번 째 라인은 테스트케이스의 갯수를 뜻하고 그 갯수만큼의 라인이 추가로 입력된다. 추가되는 각 라인은 세 개의 정수값 X Y N 으로 구성된다. X는 첫번째 프린터가 한 페이지를 출력하는 데 드는 소요시간, Y는 두번째 프린터가 한 페이지를 출력하는 데 드는 소요시간을 뜻하고 N은 출력할 문서의 총 페이지 수를 의미한다. (단, 출력할 문서의 총 페이지 수는 1,000,000,000개를 초과하지 않는다.)\n",
    "\n",
    "# 출력은 프린팅에 드는 최소한의 시간을 테스트케이스의 갯수만큼 공백으로 구분하여 출력하도록 한다.\n",
    "\n",
    "# 입출력의 예는 다음과 같다:\n",
    "\n",
    "# input data:\n",
    "# 2\n",
    "# 1 1 5\n",
    "# 3 5 4\n",
    "\n",
    "# answer:\n",
    "# 3 9\n",
    "\n",
    "def two_printers(x, y, page):\n",
    "    time = 1\n",
    "    while True:\n",
    "        if time // x + time // y:\n",
    "            return time\n",
    "        time += 1\n",
    "\n",
    "two_printers(1, 1, 5)\n",
    "two_printers(3, 5, 4)"
   ]
  },
  {
   "cell_type": "code",
   "execution_count": 16,
   "metadata": {},
   "outputs": [
    {
     "name": "stdout",
     "output_type": "stream",
     "text": [
      "확인\n"
     ]
    },
    {
     "data": {
      "text/plain": [
       "(0, 2)"
      ]
     },
     "execution_count": 16,
     "metadata": {},
     "output_type": "execute_result"
    }
   ],
   "source": [
    "# tic-tac-toe game\n",
    "\n",
    "# tic-tac-toe는 두 명의 플레이어가 턴을 돌아가면서 1부터 9까지 포지션을 선택하는 게임 입니다. 선택된 포지션은 X나 0로 표시가 되며, 선택된 포지션은 다시 선택할 수가 없습니다. 게임 그리드는 3*3으로 다음과 같습니다.\n",
    "\n",
    "#         *              *                \n",
    "#  1      *      2       *      3       \n",
    "#         *              *                \n",
    "#         *              *               \n",
    "#  4      *      5       *      6       \n",
    "#         *              *               \n",
    "#         *              *               \n",
    "#  7      *      8       *      9      \n",
    "#         *              *\n",
    "# 가로 세로 대각선으로 먼저 세 줄을 연속으로 만드는 플레이어가 우승하게 되며 무승부인 경우도 생깁니다. (매 턴마다 포지션을 입력해야 하지만, 출력은 게임이 끝이 났을 때만 하셔도 됩니다)\n",
    "\n",
    "# 입력의 예:\n",
    "\n",
    "# Player 1 - please type a position (available position(s) are 1,2,3,4,5,6,7,8,9):\n",
    "\n",
    "# 출력의 예:\n",
    "\n",
    "#         *              *                \n",
    "#  X      *      X       *      0       \n",
    "#         *              *                \n",
    "#         *              *               \n",
    "#  X      *      0       *      6       \n",
    "#         *              *               \n",
    "#         *              *               \n",
    "#  X      *      8       *      9      \n",
    "#         *              *\n",
    "# Win playear is: player 1\n",
    "\n",
    "import numpy as np\n",
    "\n",
    "board = np.array([['1', '2', '3'], ['4', '5', '6'], ['7', '8', '9']])\n",
    "pos = np.where(board == '3')\n",
    "if(list(pos[0])):\n",
    "    print('확인')\n",
    "pos[0][0], pos[1][0]"
   ]
  }
 ],
 "metadata": {
  "kernelspec": {
   "display_name": "venv",
   "language": "python",
   "name": "python3"
  },
  "language_info": {
   "codemirror_mode": {
    "name": "ipython",
    "version": 3
   },
   "file_extension": ".py",
   "mimetype": "text/x-python",
   "name": "python",
   "nbconvert_exporter": "python",
   "pygments_lexer": "ipython3",
   "version": "3.12.1"
  }
 },
 "nbformat": 4,
 "nbformat_minor": 2
}
