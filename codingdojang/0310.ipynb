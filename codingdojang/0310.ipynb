{
 "cells": [
  {
   "cell_type": "code",
   "execution_count": 1,
   "metadata": {},
   "outputs": [],
   "source": [
    "# 비슷한 단어 찾아내기\n",
    "\n",
    "# 아래와 같은 결과를 출력하는 function을 구현하라\n",
    "\n",
    "# bool OneEditApart(string s1, string s2)\n",
    "\n",
    "# OneEditApart(\"cat\", \"dog\") = false\n",
    "# OneEditApart(\"cat\", \"cats\") = true \n",
    "# OneEditApart(\"cat\", \"cut\") = true \n",
    "# OneEditApart(\"cat\", \"cast\") = true \n",
    "# OneEditApart(\"cat\", \"at\") = true\n",
    "# OneEditApart(\"cat\", \"acts\") = false \n",
    "# 한개의 문자를 삽입, 제거, 변환을 했을때 s1, s2가 동일한지를 판별하는 OneEditApart 함수를 작성하시오.\n",
    "\n",
    "def OneEditApart(a, b):\n",
    "    while a and b:\n",
    "        if a[-1] == b[-1]:\n",
    "            a = a[:-1]\n",
    "            b = b[:-1]\n",
    "        elif a[0] == b[0]:\n",
    "            a = a[1:]\n",
    "            b = b[1:]\n",
    "        else:\n",
    "            break\n",
    "    return len(a) <= 1 and len(b) <=1"
   ]
  },
  {
   "cell_type": "code",
   "execution_count": 2,
   "metadata": {},
   "outputs": [
    {
     "name": "stdout",
     "output_type": "stream",
     "text": [
      "False\n",
      "True\n",
      "True\n",
      "True\n",
      "True\n",
      "False\n"
     ]
    }
   ],
   "source": [
    "# 비슷한 단어 찾아내기 답\n",
    "\n",
    "print(OneEditApart(\"cat\", \"dog\"))\n",
    "print(OneEditApart(\"cat\", \"cats\")) \n",
    "print(OneEditApart(\"cat\", \"cut\"))\n",
    "print(OneEditApart(\"cat\", \"cast\"))\n",
    "print(OneEditApart(\"cat\", \"at\"))\n",
    "print(OneEditApart(\"cat\", \"acts\"))"
   ]
  },
  {
   "cell_type": "code",
   "execution_count": 5,
   "metadata": {},
   "outputs": [
    {
     "name": "stdout",
     "output_type": "stream",
     "text": [
      "1\n",
      "2\n",
      "3\n",
      "4\n",
      "1\n",
      "2\n",
      "3\n",
      "4\n"
     ]
    },
    {
     "data": {
      "text/plain": [
       "14"
      ]
     },
     "execution_count": 5,
     "metadata": {},
     "output_type": "execute_result"
    }
   ],
   "source": [
    "# Subdate\n",
    "\n",
    "# 두 날짜(YYYYMMDD)의 차이 일수를 구하는 프로그램을 작성하시오.\n",
    "\n",
    "# ※ 단, 프로그래밍 언어에서 지원하는 날짜차이를 계산하는 라이브러리는 사용하지 말것\n",
    "\n",
    "# 난이도 조절을 위해 윤년이나 평년은 고려하지 않습니다. 각 개월의 일 수는 아래와 같습니다.\n",
    "\n",
    "# [31, 28, 31, 30, 31, 30, 31, 31,30, 31, 30, 31]\n",
    "\n",
    "# 예)\n",
    "\n",
    "# 20070515 sub 20070501 = 14\n",
    "# 20070501 sub 20070515 = 14\n",
    "# 20070301 sub 20070515 = 75\n",
    "\n",
    "def subdate(date):\n",
    "    년 = int(date[:4])\n",
    "    월 = int(date[4:6])\n",
    "    일 = int(date[6:])\n",
    "    월별일 = [0, 31, 28, 31, 30, 31, 30, 31, 31,30, 31, 30, 31]\n",
    "    일수 = 년*365 + 일\n",
    "\n",
    "    for i in range(1, 월):\n",
    "        일수 += 월별일[i]\n",
    "    return 일수\n",
    "\n",
    "def solution(a, b):\n",
    "    return abs(subdate(a) - subdate(b))\n",
    "\n",
    "solution('20070515', '20070501')"
   ]
  }
 ],
 "metadata": {
  "kernelspec": {
   "display_name": "venv",
   "language": "python",
   "name": "python3"
  },
  "language_info": {
   "codemirror_mode": {
    "name": "ipython",
    "version": 3
   },
   "file_extension": ".py",
   "mimetype": "text/x-python",
   "name": "python",
   "nbconvert_exporter": "python",
   "pygments_lexer": "ipython3",
   "version": "3.12.1"
  }
 },
 "nbformat": 4,
 "nbformat_minor": 2
}
