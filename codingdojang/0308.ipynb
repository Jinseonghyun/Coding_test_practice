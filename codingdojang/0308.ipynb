{
 "cells": [
  {
   "cell_type": "code",
   "execution_count": null,
   "metadata": {},
   "outputs": [],
   "source": [
    "# Every Other Digit\n",
    "\n",
    "# 모든 짝수번째 숫자를 * 로 치환하시오.(홀수번째 숫자,또는 짝수번째 문자를 치환하면 안됩니다.) 로직을 이용하면 쉬운데 정규식으로는 어려울거 같아요.\n",
    "\n",
    "# Example: a1b2cde3~g45hi6 → a*b*cde*~g4*hi6\n",
    "\n",
    "def cnvt(s):\n",
    "    l = list(s)\n",
    "    for k in range(1, len(l), 2):\n",
    "        if l[k].isdigit():\n",
    "            l[k] = '*'\n",
    "    return ''.join(l)"
   ]
  },
  {
   "cell_type": "code",
   "execution_count": null,
   "metadata": {},
   "outputs": [],
   "source": [
    "# Every Other Digit 다른풀이\n",
    "\n",
    "# 모든 짝수번째 숫자를 * 로 치환하시오.(홀수번째 숫자,또는 짝수번째 문자를 치환하면 안됩니다.) 로직을 이용하면 쉬운데 정규식으로는 어려울거 같아요.\n",
    "\n",
    "# Example: a1b2cde3~g45hi6 → a*b*cde*~g4*hi6\n",
    "\n",
    "s = 'a1b2cde3~g45hi6'\n",
    "print ''.join([[s[i],'*'][i&1==1 and s[i].isdigit()] for i in range(len(s))])"
   ]
  },
  {
   "cell_type": "code",
   "execution_count": null,
   "metadata": {},
   "outputs": [],
   "source": [
    "# Every Other Digit 정규표현식 사용 다른풀이\n",
    "\n",
    "# 모든 짝수번째 숫자를 * 로 치환하시오.(홀수번째 숫자,또는 짝수번째 문자를 치환하면 안됩니다.) 로직을 이용하면 쉬운데 정규식으로는 어려울거 같아요.\n",
    "\n",
    "# Example: a1b2cde3~g45hi6 → a*b*cde*~g4*hi6 \n",
    "\n",
    "import re\n",
    "print(re.sub(r'((.\\D)*)(.)\\d((.\\D)*)', r'\\1\\3*\\4', 'a1b2cde3~g45hi6'))\n",
    "# 수정\n",
    "import re\n",
    "print(re.sub(r'((((.\\D)*)(.)\\d((.\\D)*))|(.{2}))', lambda x: x.group(8) if x.group(8) else x.group(3) + x.group(5) + '*' + x.group(6), 'a1b2cde3~g45hi6'))"
   ]
  },
  {
   "cell_type": "code",
   "execution_count": 1,
   "metadata": {},
   "outputs": [
    {
     "data": {
      "text/plain": [
       "10"
      ]
     },
     "execution_count": 1,
     "metadata": {},
     "output_type": "execute_result"
    }
   ],
   "source": [
    "# 숫자 출력하기\n",
    "\n",
    "# 20150111을 출력합니다.\n",
    "# 4가지 기준만 만족하면 됩니다.\n",
    "\n",
    "# 코드 내에 숫자가 없어야 합니다.\n",
    "# 파일 이름이나 경로를 사용해서는 안됩니다.\n",
    "# 시간, 날짜 함수를 사용해서는 안됩니다.\n",
    "# 에러 번호 출력을 이용해서는 안됩니다.\n",
    "\n",
    "# 자바스트립의 창에서 아래 문법을 이용\n",
    "# let = number = 20150111;\n",
    "\n",
    "# number.toString(33)  > 33진법 사용하면 결과가 숫자가 안나오는거 확인\n",
    "# gwnae\n",
    "\n",
    "print(int('gwnae', ord('!')))"
   ]
  },
  {
   "cell_type": "code",
   "execution_count": 7,
   "metadata": {},
   "outputs": [
    {
     "data": {
      "text/plain": [
       "('a1', 'b1', 'a2', 'b2', 'a3', 'b3', 'a4', 'b4', 'a5', 'b5')"
      ]
     },
     "execution_count": 7,
     "metadata": {},
     "output_type": "execute_result"
    }
   ],
   "source": [
    "# 아마존 면접문제 중에서\n",
    "\n",
    "# 다음과 같은 형태의 배열을\n",
    "\n",
    "# [a1,a2,a3...,an,b1,b2...bn]\n",
    "\n",
    "# 다음과 같은 형태로 바꾸시오\n",
    "\n",
    "# [a1,b1,a2,b2.....an,bn]\n",
    "\n",
    "# 문제 원문을 보니 should be in-place라 되어 있네요. 입력을 저장하는 저장소 이외에 추가적인 저장장소를 사용치 않는다는게 제약조건입니다\n",
    "\n",
    "\n",
    "l = ['a1', 'a2', 'a3', 'a4', 'a5', 'b1', 'b2', 'b3', 'b4', 'b5']\n",
    "n = len(l)//2\n",
    "l[:n]\n",
    "l[n:]\n",
    "list(zip(l[:n], l[n:]))\n",
    "sum(zip(l[:n], l[n:]), ())  # 마지막 가로 초기값 정해주는게 중요하다."
   ]
  },
  {
   "cell_type": "code",
   "execution_count": 9,
   "metadata": {},
   "outputs": [
    {
     "data": {
      "text/plain": [
       "('a1', 'b1', 'a2', 'b2', 'a3', 'b3', 'a4', 'b4', 'a5', 'b5')"
      ]
     },
     "execution_count": 9,
     "metadata": {},
     "output_type": "execute_result"
    }
   ],
   "source": [
    "# 아마존 면접문제 답\n",
    "\n",
    "def solution(l):\n",
    "    n = len(l)//2\n",
    "    return sum(zip(l[:n], l[n:]), ())\n",
    "\n",
    "l = ['a1', 'a2', 'a3', 'a4', 'a5', 'b1', 'b2', 'b3', 'b4', 'b5']\n",
    "solution(l)"
   ]
  },
  {
   "cell_type": "code",
   "execution_count": 11,
   "metadata": {},
   "outputs": [
    {
     "data": {
      "text/plain": [
       "['a1', 'b1', 'a2', 'b2', 'a3', 'b3', 'a4', 'b4', 'a5', 'b5']"
      ]
     },
     "execution_count": 11,
     "metadata": {},
     "output_type": "execute_result"
    }
   ],
   "source": [
    "# 아마존 면접문제 다른 풀이\n",
    "\n",
    "# 다음과 같은 형태의 배열을\n",
    "\n",
    "# [a1,a2,a3...,an,b1,b2...bn]\n",
    "\n",
    "# 다음과 같은 형태로 바꾸시오\n",
    "\n",
    "# [a1,b1,a2,b2.....an,bn]\n",
    "\n",
    "# 문제 원문을 보니 should be in-place라 되어 있네요. 입력을 저장하는 저장소 이외에 추가적인 저장장소를 사용치 않는다는게 제약조건입니다\n",
    "\n",
    "def solution(l):\n",
    "    n = len(l)//2\n",
    "    l[::2], l[1::2] = l[:n], l[n:]\n",
    "\n",
    "l = ['a1', 'a2', 'a3', 'a4', 'a5', 'b1', 'b2', 'b3', 'b4', 'b5']\n",
    "solution(l)\n",
    "l"
   ]
  }
 ],
 "metadata": {
  "kernelspec": {
   "display_name": "venv",
   "language": "python",
   "name": "python3"
  },
  "language_info": {
   "codemirror_mode": {
    "name": "ipython",
    "version": 3
   },
   "file_extension": ".py",
   "mimetype": "text/x-python",
   "name": "python",
   "nbconvert_exporter": "python",
   "pygments_lexer": "ipython3",
   "version": "3.12.1"
  }
 },
 "nbformat": 4,
 "nbformat_minor": 2
}
